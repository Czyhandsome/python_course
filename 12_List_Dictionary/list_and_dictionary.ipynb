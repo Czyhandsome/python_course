{
 "cells": [
  {
   "cell_type": "markdown",
   "metadata": {
    "collapsed": true
   },
   "source": [
    "# 收集起来 - 列表和字典（1）"
   ]
  },
  {
   "cell_type": "markdown",
   "metadata": {},
   "source": [
    "## 12.1 什么是列表？\n",
    "\n",
    "如果我们要建立一个家庭成员列表，怎么办？    \n",
    "可以像这样建立一个列表：  \n",
    "`family = ['Mom', 'Dad', 'Luo Siyuan', 'Baby']`"
   ]
  },
  {
   "cell_type": "code",
   "execution_count": 1,
   "metadata": {},
   "outputs": [
    {
     "name": "stdout",
     "output_type": "stream",
     "text": [
      "['Mom', 'Dad', 'Luo Siyuan', 'Baby']\n"
     ]
    }
   ],
   "source": [
    "# 建立一个家庭成员列表\n",
    "family = ['Mom', 'Dad', 'Luo Siyuan', 'Baby']\n",
    "print family"
   ]
  },
  {
   "cell_type": "markdown",
   "metadata": {},
   "source": [
    "如果要写你的幸运数字，你可能要这样做："
   ]
  },
  {
   "cell_type": "code",
   "execution_count": 2,
   "metadata": {},
   "outputs": [
    {
     "name": "stdout",
     "output_type": "stream",
     "text": [
      "[2, 7, 14, 26, 30]\n"
     ]
    }
   ],
   "source": [
    "# 幸运数字\n",
    "lucky_numbers = [2, 7, 14, 26, 30]\n",
    "print lucky_numbers"
   ]
  },
  {
   "cell_type": "markdown",
   "metadata": {},
   "source": [
    "在python里面，像这样用[]包含以来的就是列表，表示一组相似的变量。列表里面的每个变量叫做这个列表的**元素**。"
   ]
  },
  {
   "cell_type": "code",
   "execution_count": 3,
   "metadata": {},
   "outputs": [
    {
     "name": "stdout",
     "output_type": "stream",
     "text": [
      "在这里输入答案\n"
     ]
    }
   ],
   "source": [
    "#####################################\n",
    "# 练习1 创建一个列表表示你和你的两个朋友\n",
    "#####################################\n",
    "i_and_friends = \"\"\"在这里输入答案\"\"\"\n",
    "print i_and_friends"
   ]
  },
  {
   "cell_type": "markdown",
   "metadata": {},
   "source": [
    "## 12.2 创建列表"
   ]
  },
  {
   "cell_type": "code",
   "execution_count": 4,
   "metadata": {},
   "outputs": [
    {
     "name": "stdout",
     "output_type": "stream",
     "text": [
      "[1, 2, 3]\n"
     ]
    }
   ],
   "source": [
    "# 这样创建带初始元素的列表\n",
    "foo = [1, 2, 3]\n",
    "print foo"
   ]
  },
  {
   "cell_type": "code",
   "execution_count": 5,
   "metadata": {},
   "outputs": [
    {
     "name": "stdout",
     "output_type": "stream",
     "text": [
      "[]\n"
     ]
    }
   ],
   "source": [
    "# 这样创建空列表\n",
    "bar = []\n",
    "print bar"
   ]
  },
  {
   "cell_type": "markdown",
   "metadata": {},
   "source": [
    "## 12.3 给列表添加元素"
   ]
  },
  {
   "cell_type": "code",
   "execution_count": 6,
   "metadata": {},
   "outputs": [
    {
     "name": "stdout",
     "output_type": "stream",
     "text": [
      "添加元素前: [1, 2, 3]\n",
      "添加元素后: [1, 2, 3, 12]\n"
     ]
    }
   ],
   "source": [
    "# 创建一个列表\n",
    "a = [1, 2, 3]\n",
    "print \"添加元素前:\", a\n",
    "\n",
    "# 这样给列表添加元素\n",
    "a.append(12)\n",
    "print \"添加元素后:\", a"
   ]
  },
  {
   "cell_type": "markdown",
   "metadata": {},
   "source": [
    "**注意**！必须先创建列表，才能给它添加元素！！"
   ]
  },
  {
   "cell_type": "code",
   "execution_count": 46,
   "metadata": {},
   "outputs": [
    {
     "name": "stdout",
     "output_type": "stream",
     "text": [
      "报错了！ name 'baz' is not defined\n"
     ]
    }
   ],
   "source": [
    "# 没有列表，就想添加元素\n",
    "try:\n",
    "    baz.append(1)\n",
    "except NameError as e:\n",
    "    print \"报错了！\", e"
   ]
  },
  {
   "cell_type": "markdown",
   "metadata": {},
   "source": [
    "## 12.4 这个点(\".\")是什么？"
   ]
  },
  {
   "cell_type": "markdown",
   "metadata": {},
   "source": [
    "这个点前面是一个列表，后面是这个列表所具有的**方法(method)**。    \n",
    "有\".\"就说明前面这个变量是一个**对象**。关于对象，详见第14章！"
   ]
  },
  {
   "cell_type": "markdown",
   "metadata": {},
   "source": [
    "## 12.5 列表里的元素可以是任何类型"
   ]
  },
  {
   "cell_type": "code",
   "execution_count": null,
   "metadata": {},
   "outputs": [],
   "source": [
    "# 列表里有字符串和数字，没问题！\n",
    "foo = [1, 2, 3, \"123\", 23.4]\n",
    "print foo"
   ]
  },
  {
   "cell_type": "markdown",
   "metadata": {},
   "source": [
    "## 12.6 从列表里获取元素"
   ]
  },
  {
   "cell_type": "code",
   "execution_count": null,
   "metadata": {},
   "outputs": [],
   "source": [
    "# 创建一个列表，里面有1-6\n",
    "bar = [1, 2, 3, 4, 5, 6]\n",
    "# 读取第4个元素，赋值给新变量a\n",
    "a = bar[3]  # <--- 注意!!! [3]实际上就是第四个元素！\n",
    "print a"
   ]
  },
  {
   "cell_type": "markdown",
   "metadata": {},
   "source": [
    "## 12.7 从列表中获得多个元素"
   ]
  },
  {
   "cell_type": "code",
   "execution_count": null,
   "metadata": {},
   "outputs": [],
   "source": [
    "# 创建一个列表\n",
    "a = range(0, 10)\n",
    "print \"a: \", a\n",
    "\n",
    "# 读取第5个元素\n",
    "aa = a[4] # <--- 注意！是a[4]表示第五个\n",
    "print \"aa: \", aa\n",
    "\n",
    "# 读取第3个到第6个数\n",
    "b = a[2 : 6]    # <--- 注意! 2-6实际上是第三个到第六个元素！！\n",
    "print \"a[2 - 6]: \", b"
   ]
  },
  {
   "cell_type": "markdown",
   "metadata": {},
   "source": [
    "注意！a[4]的结果是一个元素，而a[2:6]读取的实际上是一个子列表！"
   ]
  },
  {
   "cell_type": "code",
   "execution_count": null,
   "metadata": {},
   "outputs": [],
   "source": [
    "a = range(0, 10)\n",
    "print type(a[4])\n",
    "print type(a[3 : 4]) "
   ]
  },
  {
   "cell_type": "markdown",
   "metadata": {},
   "source": [
    "可以用这种方式简写列表的分片:"
   ]
  },
  {
   "cell_type": "code",
   "execution_count": 3,
   "metadata": {},
   "outputs": [
    {
     "name": "stdout",
     "output_type": "stream",
     "text": [
      "[1, 2, 3]\n"
     ]
    }
   ],
   "source": [
    "number = [1, 2, 3]\n",
    "print number"
   ]
  },
  {
   "cell_type": "code",
   "execution_count": null,
   "metadata": {},
   "outputs": [],
   "source": [
    "# 直接从开头获取n个元素\n",
    "a = range(0, 10)\n",
    "print a[ : 2]  # <--- 相当于a[0 : 2]\n",
    "\n",
    "# 直接获取末尾的元素\n",
    "print a[2 : ]  # <--- 相当于a[2 : 9]"
   ]
  },
  {
   "cell_type": "markdown",
   "metadata": {},
   "source": [
    "可以这样复制整个列表："
   ]
  },
  {
   "cell_type": "code",
   "execution_count": 6,
   "metadata": {},
   "outputs": [
    {
     "name": "stdout",
     "output_type": "stream",
     "text": [
      "[1, 2, 3, 4, 5, 3]\n",
      "[1, 2, 3, 4, 5]\n"
     ]
    }
   ],
   "source": [
    "a = [1, 2, 3, 4, 5]\n",
    "\n",
    "# 复制a到b\n",
    "b = a[:]\n",
    "\n",
    "# 给b增加一个数\n",
    "b.append(3)\n",
    "print b\n",
    "\n",
    "# a不受影响！\n",
    "print a"
   ]
  },
  {
   "cell_type": "markdown",
   "metadata": {},
   "source": [
    "## 12.8 修改列表"
   ]
  },
  {
   "cell_type": "code",
   "execution_count": 7,
   "metadata": {},
   "outputs": [
    {
     "name": "stdout",
     "output_type": "stream",
     "text": [
      "['a', 'b', 'e', 'd', 'e']\n",
      "['a', 'b', 'c', 'd', 'e']\n"
     ]
    }
   ],
   "source": [
    "letters = ['a', 'b', 'e', 'd', 'e']  # <--- 写错了：abcde写成了abede\n",
    "print letters\n",
    "\n",
    "# 把错误纠正过来！提示：第三个元素的索引(index)是2\n",
    "letters[2] = 'c'\n",
    "\n",
    "print letters"
   ]
  },
  {
   "cell_type": "markdown",
   "metadata": {},
   "source": [
    "## 12.9 给列表添加元素的其他方法！"
   ]
  },
  {
   "cell_type": "code",
   "execution_count": 15,
   "metadata": {},
   "outputs": [
    {
     "name": "stdout",
     "output_type": "stream",
     "text": [
      "['a', 'b', 'c', 'd', 'e']\n",
      "['a', 'b', 'c', 'd', 'e', 1]\n",
      "['a', 'b', 'c', 'd', 'e', 1, 'a', 'c', 'e']\n"
     ]
    }
   ],
   "source": [
    "letters = ['a', 'b', 'c', 'd', 'e']\n",
    "print letters\n",
    "\n",
    "# 在末尾添加一个元素\n",
    "letters.append(1)\n",
    "print letters\n",
    "\n",
    "# 在末尾添加多个元素\n",
    "letters.extend([\"a\", \"c\", \"e\"])\n",
    "print letters\n",
    "\n",
    "# 在中间插入一个元素\n",
    "letters.insert(5, \"6\")"
   ]
  },
  {
   "cell_type": "markdown",
   "metadata": {},
   "source": [
    "## 12.10 从列表中删除一个元素"
   ]
  },
  {
   "cell_type": "code",
   "execution_count": 47,
   "metadata": {},
   "outputs": [
    {
     "name": "stdout",
     "output_type": "stream",
     "text": [
      "letters: [1, 2, 3, 4, 5]\n",
      "[1, 2, 4, 5] \n",
      "\n",
      "letters: [1, 2, 3, 4, 5]\n",
      "报错了! list.remove(x): x not in list \n",
      "\n",
      "letters: [1, 2, 3, 4, 5]\n",
      "[1, 2, 4, 5] \n",
      "\n",
      "letters: [1, 2, 3, 4, 5]\n",
      "l:  5 , letters: [1, 2, 3, 4] \n",
      "\n",
      "letters: [1, 2, 3, 4, 5]\n",
      "ll:  3 , letters: [1, 2, 4, 5]\n"
     ]
    }
   ],
   "source": [
    "# 用remove(x)删除内容为x的元素\n",
    "letters = [1, 2, 3, 4, 5]\n",
    "print \"letters:\", letters\n",
    "letters.remove(3)\n",
    "print letters, \"\\n\"\n",
    "\n",
    "# 尝试用remove删除一个不存在的元素，结果报错\n",
    "letters = [1, 2, 3, 4, 5]\n",
    "print \"letters:\", letters\n",
    "try:\n",
    "    letters.remove(100)\n",
    "except ValueError as e:\n",
    "    print \"报错了!\", e, \"\\n\"\n",
    "    \n",
    "# 用del(n)删除索引为n的元素（第n+1个元素）\n",
    "letters = [1, 2, 3, 4, 5]\n",
    "print \"letters:\", letters\n",
    "del letters[2]  # <--- 删除第三个元素\n",
    "print letters, \"\\n\"\n",
    "\n",
    "# 用pop()读取最后一个元素，并把它从列表中删除\n",
    "letters = [1, 2, 3, 4, 5]\n",
    "print \"letters:\", letters\n",
    "l = letters.pop()\n",
    "print \"l: \", l, \", letters:\", letters, \"\\n\"\n",
    "\n",
    "# 用pop(n)读取索引为n的元素，并把它删除：\n",
    "letters = [1, 2, 3, 4, 5]\n",
    "print \"letters:\", letters\n",
    "ll = letters.pop(2)  # <----- 读取letters[2], 并把它删除\n",
    "print \"ll: \", ll, \", letters:\", letters"
   ]
  },
  {
   "cell_type": "markdown",
   "metadata": {},
   "source": [
    "## 12.11 搜索列表    \n",
    "\n",
    "通过搜索，我们可以做到：\n",
    "- 查找元素*是否*在列表中\n",
    "- 查找元素在列表中的*哪个位置（索引）*"
   ]
  },
  {
   "cell_type": "code",
   "execution_count": 34,
   "metadata": {},
   "outputs": [
    {
     "name": "stdout",
     "output_type": "stream",
     "text": [
      "True\n",
      "False\n",
      "List is [6, 7, 8, 9], please input a number: 6.5\n",
      "6.5 不在列表里面!\n"
     ]
    }
   ],
   "source": [
    "# 用in查看元素是否在列表中\n",
    "list = [6, 7, 8, 9]\n",
    "print 6 in list\n",
    "print 100 in list\n",
    "\n",
    "# 可以用它进行判断！\n",
    "x = input(\"List is \" + str(list) + \", please input a number: \")\n",
    "if x in list:\n",
    "    print x, \"在列表里头!\"\n",
    "else:\n",
    "    print x, \"不在列表里面!\""
   ]
  },
  {
   "cell_type": "code",
   "execution_count": 44,
   "metadata": {},
   "outputs": [
    {
     "name": "stdout",
     "output_type": "stream",
     "text": [
      "1\n",
      "报错了!  100 is not in list\n"
     ]
    }
   ],
   "source": [
    "# 用index查看元素在列表里的索引\n",
    "list = [6, 0, 5, 9]\n",
    "print list.index(0)\n",
    "\n",
    "# 如果没有这个元素，会报错!\n",
    "try:\n",
    "    print list.index(100)\n",
    "except ValueError as e:\n",
    "    print \"报错了! \", e"
   ]
  },
  {
   "cell_type": "markdown",
   "metadata": {},
   "source": [
    "## 12.12循环处理列表"
   ]
  },
  {
   "cell_type": "code",
   "execution_count": 5,
   "metadata": {},
   "outputs": [
    {
     "name": "stdout",
     "output_type": "stream",
     "text": [
      "Hello a!\n",
      "Hello b!\n",
      "Hello c!\n",
      "Hello d!\n",
      "Hello e!\n"
     ]
    }
   ],
   "source": [
    "# 复习一下：我们如何用for循环对列表进行循环的?\n",
    "letters = [\"a\", \"b\", \"c\", \"d\", \"e\"]\n",
    "\n",
    "#####################################\n",
    "# 练习2 循环打印，打印效果类似如下：\n",
    "# Hello a!\n",
    "# Hello b!\n",
    "# Hello c!\n",
    "# Hello d!\n",
    "# Hello e!\n",
    "#####################################\n",
    "for i in letters:\n",
    "    print \"Hello \" + i + \"!\"\n",
    "    "
   ]
  },
  {
   "cell_type": "markdown",
   "metadata": {},
   "source": [
    "## 12.13 (1) 给列表排序"
   ]
  },
  {
   "cell_type": "code",
   "execution_count": 53,
   "metadata": {},
   "outputs": [
    {
     "name": "stdout",
     "output_type": "stream",
     "text": [
      "乱序列表： ['d', 'a', 'e', 'b', 'c']\n",
      "排序列表： ['a', 'b', 'c', 'd', 'e']\n"
     ]
    }
   ],
   "source": [
    "# 乱序创建一个列表：\n",
    "letters = ['d', 'a', 'e', 'b', 'c']\n",
    "print \"乱序列表：\", letters\n",
    "\n",
    "# 用sort进行排序!\n",
    "letters.sort()\n",
    "print \"排序列表：\", letters"
   ]
  },
  {
   "cell_type": "markdown",
   "metadata": {},
   "source": [
    "## 12.13 (2) 给列表排序（逆序）"
   ]
  },
  {
   "cell_type": "code",
   "execution_count": 55,
   "metadata": {},
   "outputs": [
    {
     "name": "stdout",
     "output_type": "stream",
     "text": [
      "[5, 4, 3, 2, 1]\n"
     ]
    }
   ],
   "source": [
    "# 第一种方法：先排序再倒过来\n",
    "letters = [1, 2, 3, 4, 5]\n",
    "letters.sort()     # <---- 正向排序\n",
    "letters.reverse()  # <---- 倒过来\n",
    "\n",
    "print letters"
   ]
  },
  {
   "cell_type": "code",
   "execution_count": 56,
   "metadata": {},
   "outputs": [
    {
     "name": "stdout",
     "output_type": "stream",
     "text": [
      "[5, 4, 3, 2, 1]\n"
     ]
    }
   ],
   "source": [
    "# 第二种方法：直接倒着排序!\n",
    "letters = [1, 2, 3, 4, 5]\n",
    "letters.sort(reverse = True)\n",
    "\n",
    "print letters"
   ]
  },
  {
   "cell_type": "markdown",
   "metadata": {},
   "source": [
    "*注意*！！！使用sort()或reverse会在原来的列表上直接进行修改！     \n",
    "如果你把列表直接赋值给其他变量，然后对这些变量进行修改，那么原列表也被修改了！！！"
   ]
  },
  {
   "cell_type": "code",
   "execution_count": 60,
   "metadata": {},
   "outputs": [
    {
     "name": "stdout",
     "output_type": "stream",
     "text": [
      "[-1, 1, 2, 3, 4, 5]\n",
      "[5, 4, 3, 2, 1, -1]\n",
      "\n",
      "nn: [5, 4, 2, 1, -1] a: [5, 4, 3, 2, 1, -1]\n"
     ]
    }
   ],
   "source": [
    "letters = [1, 2, 3, 4, 5, -1]\n",
    "\n",
    "a = letters # <===== a和letters现在是共享同一个列表!\n",
    "\n",
    "letters.sort()\n",
    "print a      # <===== 对letters排序, a也被排序了！\n",
    "\n",
    "a.reverse()\n",
    "print letters # <===== 对a进行倒序, letters也被倒序了！！\n",
    "\n",
    "##### 使用分片创建一个复制的列表，就不会干扰原来的列表啦！\n",
    "nn = a[:]\n",
    "del nn[2]\n",
    "print \"\\n\", \"nn:\", nn, \"a:\", a"
   ]
  },
  {
   "cell_type": "markdown",
   "metadata": {},
   "source": [
    "也可用sorted方法直接生成一个排好序的新列表！不会干扰之前的列表"
   ]
  },
  {
   "cell_type": "code",
   "execution_count": 61,
   "metadata": {},
   "outputs": [
    {
     "name": "stdout",
     "output_type": "stream",
     "text": [
      "a: [1, 3, 2, 4] b: [1, 2, 3, 4]\n"
     ]
    }
   ],
   "source": [
    "a = [1, 3, 2, 4]\n",
    "b = sorted(a)\n",
    "\n",
    "print \"a:\", a, \"b:\", b"
   ]
  },
  {
   "cell_type": "markdown",
   "metadata": {},
   "source": [
    "## 12.14 不可改变的列表 -- 元组(Tuple)"
   ]
  },
  {
   "cell_type": "code",
   "execution_count": 64,
   "metadata": {},
   "outputs": [
    {
     "name": "stdout",
     "output_type": "stream",
     "text": [
      "('Luo Siyuan', 'Huang zusi', 'Facebook')\n",
      "报错了！ 'tuple' object doesn't support item deletion\n"
     ]
    }
   ],
   "source": [
    "# 创建一个元组！一旦创建，就不能修改！\n",
    "a = (\"Luo Siyuan\", \"Huang zusi\", \"Facebook\")\n",
    "\n",
    "print a\n",
    "\n",
    "# 尝试修改一个元组，结果报错！\n",
    "try:\n",
    "    a[2] = '12'\n",
    "except Exception as e:\n",
    "    print \"报错了！\", e"
   ]
  },
  {
   "cell_type": "markdown",
   "metadata": {},
   "source": [
    "## 双重列表: 数据表"
   ]
  },
  {
   "cell_type": "code",
   "execution_count": 65,
   "metadata": {},
   "outputs": [
    {
     "name": "stdout",
     "output_type": "stream",
     "text": [
      "[[55, 63, 77, 81], [11, 22, 33, 44], [0, 0, 0, 0]]\n"
     ]
    }
   ],
   "source": [
    "# joe的数据\n",
    "joe = [55, 63, 77, 81]\n",
    "tom = [11, 22, 33, 44]\n",
    "beth = [0, 0, 0, 0]\n",
    "\n",
    "# 创建一个双重列表！\n",
    "all = [joe, tom, beth]\n",
    "\n",
    "print all"
   ]
  },
  {
   "cell_type": "code",
   "execution_count": 66,
   "metadata": {},
   "outputs": [
    {
     "name": "stdout",
     "output_type": "stream",
     "text": [
      "[[55, 63, 77, 81], [11, 22, 33, 44], [0, 0, 0, 0]]\n"
     ]
    }
   ],
   "source": [
    "# 也可以直接创建双重列表！\n",
    "all = [[55, 63, 77, 81], [11, 22, 33, 44], [0, 0, 0, 0]]\n",
    "print all"
   ]
  },
  {
   "cell_type": "code",
   "execution_count": null,
   "metadata": {},
   "outputs": [],
   "source": [
    "############################################\n",
    "# 练习3 尝试对双重列表循环打印一下，看看会打印什么？\n",
    "############################################\n",
    "for \"\"\"在这里输入答案\"\"\":\n",
    "    print \"\"\"在这里输入答案2\"\"\""
   ]
  },
  {
   "cell_type": "markdown",
   "metadata": {},
   "source": [
    "怎么样从这样的列表中读取一个值呢？"
   ]
  },
  {
   "cell_type": "code",
   "execution_count": 69,
   "metadata": {},
   "outputs": [
    {
     "name": "stdout",
     "output_type": "stream",
     "text": [
      "[11, 22, 33, 44]\n",
      "33\n"
     ]
    }
   ],
   "source": [
    "all = [[55, 63, 77, 81], [11, 22, 33, 44], [0, 0, 0, 0]]\n",
    "\n",
    "# 读取第二个人(index = 1)的所有数据？\n",
    "tom = all[1]\n",
    "print tom\n",
    "\n",
    "# 读取tom的第三个数据(index = 2)\n",
    "tom3 = tom[2]\n",
    "print tom3"
   ]
  }
 ],
 "metadata": {
  "kernelspec": {
   "display_name": "Python 2",
   "language": "python",
   "name": "python2"
  },
  "language_info": {
   "codemirror_mode": {
    "name": "ipython",
    "version": 2
   },
   "file_extension": ".py",
   "mimetype": "text/x-python",
   "name": "python",
   "nbconvert_exporter": "python",
   "pygments_lexer": "ipython2",
   "version": "2.7.15"
  }
 },
 "nbformat": 4,
 "nbformat_minor": 1
}
