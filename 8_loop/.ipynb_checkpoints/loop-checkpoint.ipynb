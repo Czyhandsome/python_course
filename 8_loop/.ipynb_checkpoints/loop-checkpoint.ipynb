{
 "cells": [
  {
   "cell_type": "markdown",
   "metadata": {
    "collapsed": true
   },
   "source": [
    "##### 转圈圈\n",
    "想象一下! 现在我们要打印5次'Hello'，怎么办？\n",
    "简单! 直接输入5次print就行啦!"
   ]
  },
  {
   "cell_type": "code",
   "execution_count": null,
   "metadata": {},
   "outputs": [
    {
     "name": "stdout",
     "output_type": "stream",
     "text": [
      "Hello\n",
      "Hello\n",
      "Hello\n",
      "Hello\n",
      "Hello\n"
     ]
    }
   ],
   "source": [
    "print 'Hello'\n",
    "print 'Hello'\n",
    "print 'Hello'\n",
    "print 'Hello'\n",
    "print 'Hello'"
   ]
  },
  {
   "cell_type": "markdown",
   "metadata": {},
   "source": [
    "如果我要输入20次呢？100次呢？10000次呢？？\n",
    "![OneFaceMB](OneFaceMB.jpg)\n",
    "其实，只要使用<b>循环</b>就行啦！"
   ]
  },
  {
   "cell_type": "code",
   "execution_count": 6,
   "metadata": {},
   "outputs": [
    {
     "name": "stdout",
     "output_type": "stream",
     "text": [
      "  Hello 1\n",
      " Hello 2\n",
      " Hello 3\n",
      " Hello 4\n",
      " Hello 5\n"
     ]
    }
   ],
   "source": [
    "for looper in [1, 2, 3, 4, 5]:\n",
    "    print ' Hello'"
   ]
  },
  {
   "cell_type": "markdown",
   "metadata": {},
   "source": [
    "怎么样！两句话就打印了5次'Hello', 而不是要输入5次！多么方便<br/>\n",
    "注意：[1, 2, 3, 4, 5]是一个<b>序列</b>\n",
    "当我们写 <i>for i in [1, 2, 3, 4, 5]:</i>的时候，实际上做的是：\n",
    "1. 变量looper的值从1开始（所以looper此时为1）\n",
    "2. 对应列表中的每一个值，这个循环会把下一个指令块中的所有工作完成一次（也就是<i>print 'Hello'</i>)\n",
    "3. 然后looper变成下一个值（从1变成2），然后继续执行_**指令块**_里面的东西\n",
    "4. 重复1、2、3，直到最后一个值（5）\n",
    "\n",
    "### 术语\n",
    "每次循环被称为一次**_迭代_**\n",
    "\n",
    "### 术语\n",
    "用中括号[]扩起来的东西叫做**_列表_**，表示一组相似的东西"
   ]
  },
  {
   "cell_type": "markdown",
   "metadata": {},
   "source": [
    "下面，我们做些不同的！\n",
    "与其每次打印出同样的东西（'Hello'），我们打印每次循环的值！"
   ]
  },
  {
   "cell_type": "code",
   "execution_count": 7,
   "metadata": {},
   "outputs": [
    {
     "name": "stdout",
     "output_type": "stream",
     "text": [
      "1\n",
      "2\n",
      "3\n",
      "4\n",
      "5\n"
     ]
    }
   ],
   "source": [
    "for looper in [1, 2, 3, 4, 5]:\n",
    "    print looper"
   ]
  },
  {
   "cell_type": "markdown",
   "metadata": {},
   "source": [
    "哈哈！这下每次打印的是循环的变量了！如果没有循环的话，你需要这样做："
   ]
  },
  {
   "cell_type": "code",
   "execution_count": 4,
   "metadata": {},
   "outputs": [
    {
     "name": "stdout",
     "output_type": "stream",
     "text": [
      "1\n",
      "2\n",
      "3\n",
      "4\n",
      "5\n"
     ]
    }
   ],
   "source": [
    "print 1\n",
    "print 2\n",
    "print 3\n",
    "print 4\n",
    "print 5"
   ]
  },
  {
   "cell_type": "markdown",
   "metadata": {},
   "source": [
    "这时候老板：你给我打印1-20看看。\n",
    "![A Beautiful Smile](ABeautifulSmile.jpg)"
   ]
  },
  {
   "cell_type": "markdown",
   "metadata": {},
   "source": [
    "如果不用循环:"
   ]
  },
  {
   "cell_type": "code",
   "execution_count": 8,
   "metadata": {},
   "outputs": [
    {
     "name": "stdout",
     "output_type": "stream",
     "text": [
      "1\n",
      "2\n",
      "......重复20次\n",
      "20\n"
     ]
    }
   ],
   "source": [
    "print 1\n",
    "print 2\n",
    "## 重复20次……\n",
    "print '......重复20次'\n",
    "print 20"
   ]
  },
  {
   "cell_type": "markdown",
   "metadata": {},
   "source": [
    "如果用列表循环:"
   ]
  },
  {
   "cell_type": "code",
   "execution_count": 9,
   "metadata": {},
   "outputs": [
    {
     "name": "stdout",
     "output_type": "stream",
     "text": [
      "1\n",
      "2\n",
      "3\n",
      "4\n",
      "5\n",
      "6\n",
      "7\n",
      "8\n",
      "9\n",
      "10\n",
      "11\n",
      "12\n",
      "13\n",
      "14\n",
      "15\n",
      "16\n",
      "17\n",
      "18\n",
      "19\n",
      "20\n"
     ]
    }
   ],
   "source": [
    "for looper in [1, 2, 3, 4, 5, 6, 7, 8, 9, 10, 11, 12, 13, 14, 15, 16, 17, 18, 19, 20]:\n",
    "    print looper"
   ]
  },
  {
   "cell_type": "markdown",
   "metadata": {},
   "source": [
    "emmmmm…………看上去列表也不是很方便嘛，要从1写到20\n",
    "这时候老板：嗯不错，你这次从1写到100吧\n",
    "![A Beautiful Smile](ABeautifulSmile.jpg)"
   ]
  },
  {
   "cell_type": "markdown",
   "metadata": {},
   "source": [
    "不用怕! 这时候**_range()_**帮上大忙啦！！"
   ]
  },
  {
   "cell_type": "code",
   "execution_count": 11,
   "metadata": {},
   "outputs": [
    {
     "name": "stdout",
     "output_type": "stream",
     "text": [
      "1\n",
      "2\n",
      "3\n",
      "4\n",
      "5\n",
      "6\n",
      "7\n",
      "8\n",
      "9\n",
      "10\n",
      "11\n",
      "12\n",
      "13\n",
      "14\n",
      "15\n",
      "16\n",
      "17\n",
      "18\n",
      "19\n",
      "20\n",
      "21\n",
      "22\n",
      "23\n",
      "24\n",
      "25\n",
      "26\n",
      "27\n",
      "28\n",
      "29\n",
      "30\n",
      "31\n",
      "32\n",
      "33\n",
      "34\n",
      "35\n",
      "36\n",
      "37\n",
      "38\n",
      "39\n",
      "40\n",
      "41\n",
      "42\n",
      "43\n",
      "44\n",
      "45\n",
      "46\n",
      "47\n",
      "48\n",
      "49\n",
      "50\n",
      "51\n",
      "52\n",
      "53\n",
      "54\n",
      "55\n",
      "56\n",
      "57\n",
      "58\n",
      "59\n",
      "60\n",
      "61\n",
      "62\n",
      "63\n",
      "64\n",
      "65\n",
      "66\n",
      "67\n",
      "68\n",
      "69\n",
      "70\n",
      "71\n",
      "72\n",
      "73\n",
      "74\n",
      "75\n",
      "76\n",
      "77\n",
      "78\n",
      "79\n",
      "80\n",
      "81\n",
      "82\n",
      "83\n",
      "84\n",
      "85\n",
      "86\n",
      "87\n",
      "88\n",
      "89\n",
      "90\n",
      "91\n",
      "92\n",
      "93\n",
      "94\n",
      "95\n",
      "96\n",
      "97\n",
      "98\n",
      "99\n",
      "100\n"
     ]
    }
   ],
   "source": [
    "for looper in range(1, 101):\n",
    "    print looper"
   ]
  },
  {
   "cell_type": "markdown",
   "metadata": {},
   "source": [
    "![A panda smile](APandaSmile.jpg) 妈妈再也不用担心我写一大堆循环啦！！"
   ]
  },
  {
   "cell_type": "markdown",
   "metadata": {},
   "source": [
    "有了循环和range，我们可以做好多事情！\n",
    "比如：乘法表"
   ]
  },
  {
   "cell_type": "code",
   "execution_count": 14,
   "metadata": {},
   "outputs": [
    {
     "name": "stdout",
     "output_type": "stream",
     "text": [
      "1 * 8 = 8\n",
      "2 * 8 = 16\n",
      "3 * 8 = 24\n",
      "4 * 8 = 32\n",
      "5 * 8 = 40\n",
      "6 * 8 = 48\n",
      "7 * 8 = 56\n",
      "8 * 8 = 64\n",
      "9 * 8 = 72\n"
     ]
    }
   ],
   "source": [
    "for looper in range(1, 10):\n",
    "    print looper , ' * 8 = ' , looper * 8"
   ]
  },
  {
   "cell_type": "code",
   "execution_count": 20,
   "metadata": {},
   "outputs": [
    {
     "name": "stdout",
     "output_type": "stream",
     "text": [
      "1 * 8 = 8\n",
      "2 * 8 = 16\n",
      "3 * 8 = 24\n",
      "4 * 8 = 32\n",
      "5 * 8 = 40\n",
      "6 * 8 = 48\n",
      "7 * 8 = 56\n",
      "8 * 8 = 64\n",
      "9 * 8 = 72\n"
     ]
    }
   ],
   "source": [
    "for looper in [1, 2, 3, 4, 5, 6, 7, 8, 9]:\n",
    "    print looper, '* 8 =' , looper * 8"
   ]
  },
  {
   "cell_type": "markdown",
   "metadata": {},
   "source": [
    "我们用的是looper来表示循环变量。是不是有些太长了呢！我想偷懒！\n",
    "![A good Smile](AGoodSmile.jpg)\n",
    "### 编程风格\n",
    "一般使用_**i、j、k**_来表示循环变量\n",
    "\n",
    "那么，我们的乘法表就可以写成:"
   ]
  },
  {
   "cell_type": "code",
   "execution_count": 9,
   "metadata": {},
   "outputs": [
    {
     "name": "stdout",
     "output_type": "stream",
     "text": [
      "1  * 8 =  8\n",
      "2  * 8 =  16\n",
      "3  * 8 =  24\n",
      "4  * 8 =  32\n",
      "5  * 8 =  40\n",
      "6  * 8 =  48\n",
      "7  * 8 =  56\n",
      "8  * 8 =  64\n",
      "9  * 8 =  72\n"
     ]
    }
   ],
   "source": [
    "for i in range(1, 10):\n",
    "    print i , ' * 8 = ' , i * 8"
   ]
  },
  {
   "cell_type": "markdown",
   "metadata": {},
   "source": [
    "也可以这样用range()："
   ]
  },
  {
   "cell_type": "code",
   "execution_count": 10,
   "metadata": {},
   "outputs": [
    {
     "name": "stdout",
     "output_type": "stream",
     "text": [
      "0  * 8 =  0\n",
      "1  * 8 =  8\n",
      "2  * 8 =  16\n",
      "3  * 8 =  24\n",
      "4  * 8 =  32\n",
      "5  * 8 =  40\n",
      "6  * 8 =  48\n",
      "7  * 8 =  56\n",
      "8  * 8 =  64\n",
      "9  * 8 =  72\n"
     ]
    }
   ],
   "source": [
    "for i in range(10):\n",
    "    print i , ' * 8 = ' , i * 8"
   ]
  },
  {
   "cell_type": "markdown",
   "metadata": {},
   "source": [
    "### #注意!\n",
    "range(n)表示的是**0到n-1**之间的数！！"
   ]
  },
  {
   "cell_type": "code",
   "execution_count": 24,
   "metadata": {},
   "outputs": [
    {
     "name": "stdout",
     "output_type": "stream",
     "text": [
      "[0, 1, 2, 3, 4, 5, 6, 7, 8, 9]\n"
     ]
    }
   ],
   "source": [
    "print range(10)"
   ]
  },
  {
   "cell_type": "markdown",
   "metadata": {},
   "source": [
    "(此处进行中场休息)\n",
    "![Dancing](Dancing.gif)"
   ]
  },
  {
   "cell_type": "markdown",
   "metadata": {},
   "source": [
    "到现在为止，我们的计数循环都是每次+1\n",
    "小明：我想每次+2！怎么办？？\n",
    "![CatSmile.png](CatSmile.png)\n",
    "\n",
    "简单！我们可以给range方法加上第三个参数，表示每次增加的**_步长_**："
   ]
  },
  {
   "cell_type": "code",
   "execution_count": 12,
   "metadata": {},
   "outputs": [
    {
     "name": "stdout",
     "output_type": "stream",
     "text": [
      "1\n",
      "3\n",
      "5\n",
      "7\n",
      "9\n"
     ]
    }
   ],
   "source": [
    "for i in range(1, 10, 2):\n",
    "    print i"
   ]
  },
  {
   "cell_type": "markdown",
   "metadata": {},
   "source": [
    "从1开始，每次+2，直到10为止：\n",
    "\n",
    "1 -> 3 -> 5 -> 7 -> 9"
   ]
  },
  {
   "cell_type": "code",
   "execution_count": 26,
   "metadata": {},
   "outputs": [
    {
     "name": "stdout",
     "output_type": "stream",
     "text": [
      "5\n",
      "10\n",
      "15\n",
      "20\n"
     ]
    }
   ],
   "source": [
    "for i in range(5, 25, 5):\n",
    "    print i"
   ]
  },
  {
   "cell_type": "markdown",
   "metadata": {},
   "source": [
    "从5开始，每次加5：\n",
    "\n",
    "5 -> 10 -> 15 -> 20 ( -> 25, 注意不能大于或等于25！）\n",
    "\n",
    "反过来也行!"
   ]
  },
  {
   "cell_type": "code",
   "execution_count": 27,
   "metadata": {},
   "outputs": [
    {
     "name": "stdout",
     "output_type": "stream",
     "text": [
      "9\n",
      "8\n",
      "7\n",
      "6\n",
      "5\n",
      "4\n",
      "3\n",
      "2\n",
      "1\n"
     ]
    }
   ],
   "source": [
    "for i in range(9, 0, -1):\n",
    "    print i"
   ]
  },
  {
   "cell_type": "markdown",
   "metadata": {},
   "source": [
    "可以用这个原理做一个倒计时的定时器程序！\n",
    "每次停顿1秒，重复10次："
   ]
  },
  {
   "cell_type": "code",
   "execution_count": 28,
   "metadata": {},
   "outputs": [
    {
     "name": "stdout",
     "output_type": "stream",
     "text": [
      "第 10 次倒计时! --->  10\n",
      "第 9 次倒计时! --->  9\n",
      "第 8 次倒计时! --->  8\n",
      "第 7 次倒计时! --->  7\n",
      "第 6 次倒计时! --->  6\n",
      "第 5 次倒计时! --->  5\n",
      "第 4 次倒计时! --->  4\n",
      "第 3 次倒计时! --->  3\n",
      "第 2 次倒计时! --->  2\n",
      "第 1 次倒计时! --->  1\n"
     ]
    }
   ],
   "source": [
    "import time\n",
    "for i in range(10, 0, -1):\n",
    "    print '第', i, '次倒计时! ---> ', i\n",
    "    time.sleep(1) # ===> 这里控制暂停一秒钟!"
   ]
  },
  {
   "cell_type": "markdown",
   "metadata": {},
   "source": [
    "## 没有数字的循环\n",
    "之前我们的循环，都是有数字来控制的，一般是用i从1（或者0）到一个最大的数，然后结束循环。<br/>\n",
    "如果没有数字，怎么操控循环呢？？？\n",
    "最简单的方法：用一个列表（只不过里面不是数字！）"
   ]
  },
  {
   "cell_type": "code",
   "execution_count": 31,
   "metadata": {},
   "outputs": [
    {
     "name": "stdout",
     "output_type": "stream",
     "text": [
      "你好!\n",
      "fake brother!\n",
      "I love you!\n"
     ]
    }
   ],
   "source": [
    "for msg in ['你好!', 'fake brother!', 'I love you!']:\n",
    "    print msg"
   ]
  },
  {
   "cell_type": "markdown",
   "metadata": {},
   "source": [
    "如果我没有列表，也不知道执行几次呢？怎么办？？\n",
    "![DogMB.jpg](DogMB.jpg)\n",
    "\n",
    "这时候就可以请上**_while_**循环啦！！"
   ]
  },
  {
   "cell_type": "code",
   "execution_count": 3,
   "metadata": {},
   "outputs": [
    {
     "name": "stdout",
     "output_type": "stream",
     "text": [
      "输入的不是3! 退出循环 5\n"
     ]
    }
   ],
   "source": [
    "msg = '3'\n",
    "while msg == '3':\n",
    "    print '输入的是3!继续循环'\n",
    "    msg = raw_input(\"输入3以继续循环，输入其他就退出循环!\")\n",
    "print '输入的不是3! 退出循环', msg"
   ]
  },
  {
   "cell_type": "markdown",
   "metadata": {},
   "source": [
    "有时候我们想提前进入下一次循环或者跳过循环，怎么办？\n",
    "## 关键字：\n",
    "continue 直接下一次循环    \n",
    "break 跳出循环"
   ]
  },
  {
   "cell_type": "code",
   "execution_count": 11,
   "metadata": {},
   "outputs": [
    {
     "name": "stdout",
     "output_type": "stream",
     "text": [
      "\n",
      "i =  1\n",
      "Hello, how\n",
      "\n",
      "i =  2\n",
      "Hello, how\n",
      "\n",
      "i =  3\n",
      "Hello, how\n",
      "哈哈! 3会被跳过的!\n",
      "\n",
      "i =  4\n",
      "Hello, how\n",
      "哈哈! 3会被跳过的!\n",
      "\n",
      "i =  5\n",
      "Hello, how\n",
      "哈哈! 3会被跳过的!\n",
      "\n",
      "i =  6\n",
      "Hello, how\n",
      "哈哈! 3会被跳过的!\n",
      "\n",
      "i =  7\n",
      "Hello, how\n",
      "\n",
      "i =  8\n",
      "Hello, how\n",
      "\n",
      "i =  9\n",
      "Hello, how\n"
     ]
    }
   ],
   "source": [
    "for i in range(1, 10):\n",
    "    print\n",
    "    print 'i = ', i\n",
    "    print 'Hello, how'\n",
    "    if i % 2 == 0:\n",
    "        continue\n",
    "    print '哈哈! 3会被跳过的!'"
   ]
  },
  {
   "cell_type": "markdown",
   "metadata": {},
   "source": [
    "执行到i=3的时候，if语句判断成立了，就执行continue，所以直接跳过了后面的print    \n",
    "\n",
    "下面用break试试："
   ]
  },
  {
   "cell_type": "code",
   "execution_count": 13,
   "metadata": {},
   "outputs": [
    {
     "name": "stdout",
     "output_type": "stream",
     "text": [
      "\n",
      "i =  1\n",
      "Hello, how\n",
      "哈哈! 到3就直接结束啦!\n",
      "\n",
      "i =  2\n",
      "Hello, how\n",
      "哈哈! 到3就直接结束啦!\n",
      "\n",
      "i =  3\n",
      "Hello, how\n"
     ]
    }
   ],
   "source": [
    "for i in range(1, 6):\n",
    "    print\n",
    "    print 'i = ', i\n",
    "    print 'Hello, how'\n",
    "    if i == 3:\n",
    "        break\n",
    "    print '哈哈! 到3就直接结束啦!'"
   ]
  },
  {
   "cell_type": "markdown",
   "metadata": {},
   "source": [
    "# 总结 你学到了什么？\n",
    "1. for循环（也叫**计数循环**）\n",
    "2. range(n, m)函数 - 快速创建n - m-1的列表\n",
    "3. range()的不同步长大小\n",
    "4. while循环（也叫**条件循环**）\n",
    "5. 用continue跳到下一次迭代\n",
    "6. 用break跳出循环"
   ]
  },
  {
   "cell_type": "markdown",
   "metadata": {},
   "source": [
    "# 测试题\n",
    "\n",
    "1. 下面的循环运行多少次?"
   ]
  },
  {
   "cell_type": "code",
   "execution_count": 14,
   "metadata": {},
   "outputs": [
    {
     "name": "stdout",
     "output_type": "stream",
     "text": [
      "Hi, Warren\n",
      "Hi, Warren\n",
      "Hi, Warren\n",
      "Hi, Warren\n",
      "Hi, Warren\n"
     ]
    }
   ],
   "source": [
    "for i in range (1 , 6) :\n",
    "    print \"Hi, Warren\""
   ]
  },
  {
   "cell_type": "markdown",
   "metadata": {},
   "source": [
    "2. 下面的循环会运行多少次？每次运行i的值是多少？"
   ]
  },
  {
   "cell_type": "code",
   "execution_count": 17,
   "metadata": {},
   "outputs": [
    {
     "name": "stdout",
     "output_type": "stream",
     "text": [
      "Hi, Warren 1\n",
      "Hi, Warren 4\n"
     ]
    }
   ],
   "source": [
    "for i in range (1 , 6 , 3) :\n",
    "    print \"Hi, Warren\", i"
   ]
  },
  {
   "cell_type": "markdown",
   "metadata": {},
   "source": [
    "3. range(1, 8)是什么？"
   ]
  },
  {
   "cell_type": "code",
   "execution_count": 18,
   "metadata": {},
   "outputs": [
    {
     "name": "stdout",
     "output_type": "stream",
     "text": [
      "[1, 2, 3, 4, 5, 6, 7]\n"
     ]
    }
   ],
   "source": [
    "print range (1 , 8)"
   ]
  },
  {
   "cell_type": "markdown",
   "metadata": {},
   "source": [
    "4. range(8)是什么？"
   ]
  },
  {
   "cell_type": "code",
   "execution_count": 19,
   "metadata": {},
   "outputs": [
    {
     "name": "stdout",
     "output_type": "stream",
     "text": [
      "[0, 1, 2, 3, 4, 5, 6, 7]\n"
     ]
    }
   ],
   "source": [
    "print range (8) "
   ]
  },
  {
   "cell_type": "markdown",
   "metadata": {},
   "source": [
    "5. range(2, 9, 2)是什么?"
   ]
  },
  {
   "cell_type": "code",
   "execution_count": 20,
   "metadata": {},
   "outputs": [
    {
     "name": "stdout",
     "output_type": "stream",
     "text": [
      "[2, 4, 6, 8]\n"
     ]
    }
   ],
   "source": [
    "print range (2 , 9 , 2) "
   ]
  },
  {
   "cell_type": "markdown",
   "metadata": {},
   "source": [
    "6. range(10, 0, -2)是什么?"
   ]
  },
  {
   "cell_type": "code",
   "execution_count": 21,
   "metadata": {},
   "outputs": [
    {
     "name": "stdout",
     "output_type": "stream",
     "text": [
      "[10, 8, 6, 4, 2]\n"
     ]
    }
   ],
   "source": [
    "print range(10, 0, -2)"
   ]
  },
  {
   "cell_type": "markdown",
   "metadata": {},
   "source": [
    "7. 使用哪个关键字停止循环的当前迭代？"
   ]
  },
  {
   "cell_type": "markdown",
   "metadata": {},
   "source": [
    "8. while循环什么时候结束？（提示：有两种情况！）"
   ]
  }
 ],
 "metadata": {
  "kernelspec": {
   "display_name": "Python 2",
   "language": "python",
   "name": "python2"
  },
  "language_info": {
   "codemirror_mode": {
    "name": "ipython",
    "version": 2
   },
   "file_extension": ".py",
   "mimetype": "text/x-python",
   "name": "python",
   "nbconvert_exporter": "python",
   "pygments_lexer": "ipython2",
   "version": "2.7.15"
  }
 },
 "nbformat": 4,
 "nbformat_minor": 1
}
