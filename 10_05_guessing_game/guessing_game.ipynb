{
 "cells": [
  {
   "cell_type": "markdown",
   "metadata": {
    "collapsed": true
   },
   "source": [
    "# 猜数游戏\n",
    "今天我们要实现一个猜数游戏："
   ]
  },
  {
   "cell_type": "code",
   "execution_count": 7,
   "metadata": {},
   "outputs": [
    {
     "name": "stdout",
     "output_type": "stream",
     "text": [
      "Please input your guess: 50\n",
      "Your guess 50 is too big!\n",
      "Please input your guess: 25\n",
      "Your guess 25 is too big!\n",
      "Please input your guess: 12\n",
      "Your guess 12 is too small!\n",
      "Please input your guess: 18\n",
      "Your guess 18 is too big!\n",
      "Please input your guess: 15\n",
      "Your guess 15 is too small!\n",
      "Please input your guess: 17\n",
      "Your guess 17 is too big!\n",
      "You ran out of guesses! Answer  16\n"
     ]
    }
   ],
   "source": [
    "# coding=utf-8\n",
    "import random\n",
    "\n",
    "if __name__ == '__main__':\n",
    "    secret = random.randint(1, 100)\n",
    "    trial = 0\n",
    "    max_trial = 6\n",
    "    guess = 0\n",
    "    while trial < max_trial:\n",
    "        trial = trial + 1\n",
    "        guess = input(\"Please input your guess: \")\n",
    "        if guess == secret:\n",
    "            print \"You are right! Trials: \", trial\n",
    "            break\n",
    "        elif guess > secret:\n",
    "            print \"Your guess\", guess, \"is too big!\"\n",
    "        else:\n",
    "            print \"Your guess\", guess, \"is too small!\"\n",
    "    if guess != secret:\n",
    "        print \"You ran out of guesses! Answer \", secret\n"
   ]
  },
  {
   "cell_type": "markdown",
   "metadata": {},
   "source": [
    "下面，我们将分析一下程序的结构，然后一步步实现这个猜数游戏！"
   ]
  },
  {
   "cell_type": "markdown",
   "metadata": {},
   "source": [
    "## 猜数游戏的结构\n",
    "<details>\n",
    "  <summary>不给你看，你先自己想想！（点击查看隐藏内容）</summary>\n",
    "  <img src=\"./guessing.jpeg\"/>\n",
    "</details>\n",
    "\n",
    "下面，我们一步步地实现这些功能，然后组合起来！"
   ]
  },
  {
   "cell_type": "markdown",
   "metadata": {},
   "source": [
    "## 创建一个1-100的随机数\n",
    "首先，我们要创建一个数给用户来猜，每次都不一样，所以我们需要随机数。<br>\n",
    "python里面有`random.randint`方法，用来创建随机数\n",
    "动手试一试!"
   ]
  },
  {
   "cell_type": "code",
   "execution_count": 22,
   "metadata": {},
   "outputs": [
    {
     "name": "stdout",
     "output_type": "stream",
     "text": [
      "在这里输入答案\n"
     ]
    }
   ],
   "source": [
    "###########################\n",
    "# 练习1 创建一个1-100的随机数 #\n",
    "###########################\n",
    "import random\n",
    "\n",
    "# 提示: random.randint(a, b)可以创建一个a-b的随机数，包括a, b\n",
    "secret = \"\"\"在这里输入答案\"\"\"\n",
    "print secret"
   ]
  },
  {
   "cell_type": "markdown",
   "metadata": {},
   "source": [
    "尝试多次运行上面的程序！你会发现，每次运行的结果都不一样，说明确实是随机数。"
   ]
  },
  {
   "cell_type": "markdown",
   "metadata": {},
   "source": [
    "接下来是规定用户最多尝试的次数（比如6次）。<br>\n",
    "动手试一试！"
   ]
  },
  {
   "cell_type": "code",
   "execution_count": 23,
   "metadata": {},
   "outputs": [
    {
     "name": "stdout",
     "output_type": "stream",
     "text": [
      "在这里输入答案\n"
     ]
    }
   ],
   "source": [
    "import random\n",
    "\n",
    "# 提示: random.randint(a, b)可以创建一个a-b的随机数，包括a, b\n",
    "secret = random.randint(1, 100)\n",
    "\n",
    "###########################\n",
    "# 练习2 规定用户最多尝试的次数 #\n",
    "###########################\n",
    "max_trials = \"\"\"在这里输入答案\"\"\"\n",
    "print max_trials"
   ]
  },
  {
   "cell_type": "markdown",
   "metadata": {},
   "source": [
    "我们还需要一个变量，用来储存用户已经猜了几次！<br>\n",
    "*(提示：用户还没开始玩的时候，算猜了几次？)*"
   ]
  },
  {
   "cell_type": "code",
   "execution_count": 24,
   "metadata": {},
   "outputs": [
    {
     "name": "stdout",
     "output_type": "stream",
     "text": [
      "6\n",
      "在这里输入答案\n"
     ]
    }
   ],
   "source": [
    "import random\n",
    "\n",
    "# 提示: random.randint(a, b)可以创建一个a-b的随机数，包括a, b\n",
    "secret = random.randint(1, 100)\n",
    "\n",
    "max_trials = 6\n",
    "\n",
    "###########################\n",
    "# 练习3 用户已经猜了几次? #\n",
    "###########################\n",
    "trials = \"\"\"在这里输入答案\"\"\"\n",
    "print trials"
   ]
  },
  {
   "cell_type": "markdown",
   "metadata": {},
   "source": [
    "最后，我们创建一个变量，储存用户最近一次猜的数<br>\n",
    "用户还没猜的时候，给它赋值多少呢？这里可以随便设置一个值，我一般设置为空列表:"
   ]
  },
  {
   "cell_type": "code",
   "execution_count": 27,
   "metadata": {},
   "outputs": [
    {
     "name": "stdout",
     "output_type": "stream",
     "text": [
      "在这里输入答案\n",
      "[]\n"
     ]
    }
   ],
   "source": [
    "import random\n",
    "\n",
    "# 提示: random.randint(a, b)可以创建一个a-b的随机数，包括a, b\n",
    "secret = random.randint(1, 100)\n",
    "\n",
    "max_trials = 6\n",
    "\n",
    "print trials\n",
    "\n",
    "###########################\n",
    "# 储存用户最近猜的数 #\n",
    "###########################\n",
    "guess = []\n",
    "print guess"
   ]
  },
  {
   "cell_type": "markdown",
   "metadata": {},
   "source": [
    "接下来开始循环！我们控制用户最多猜测trials次，所以最多只能循环trials次。<br>\n",
    "想想哪些方法可以实现？*（提示：循环有几种写法？）"
   ]
  },
  {
   "cell_type": "code",
   "execution_count": 25,
   "metadata": {},
   "outputs": [
    {
     "ename": "SyntaxError",
     "evalue": "invalid syntax (<ipython-input-25-f256a8c442a5>, line 15)",
     "output_type": "error",
     "traceback": [
      "\u001b[0;36m  File \u001b[0;32m\"<ipython-input-25-f256a8c442a5>\"\u001b[0;36m, line \u001b[0;32m15\u001b[0m\n\u001b[0;31m    \"\"\"在这里输入答案\"\"\":\u001b[0m\n\u001b[0m                  \n^\u001b[0m\n\u001b[0;31mSyntaxError\u001b[0m\u001b[0;31m:\u001b[0m invalid syntax\n"
     ]
    }
   ],
   "source": [
    "import random\n",
    "\n",
    "# 提示: random.randint(a, b)可以创建一个a-b的随机数，包括a, b\n",
    "secret = random.randint(1, 100)\n",
    "\n",
    "max_trials = 6\n",
    "\n",
    "trials = 0\n",
    "\n",
    "###########################\n",
    "# 练习4 控制最多循环max_trials次 #\n",
    "###########################\n",
    "\"\"\"在这里输入答案\"\"\":\n",
    "    print \"Hello\""
   ]
  },
  {
   "cell_type": "markdown",
   "metadata": {},
   "source": [
    "我们需要提示用户输入一个数：<br>\n",
    "*(提示：可以提示用户\"Please input your guess\")*"
   ]
  },
  {
   "cell_type": "code",
   "execution_count": 30,
   "metadata": {},
   "outputs": [
    {
     "name": "stdout",
     "output_type": "stream",
     "text": [
      "在这里输入答案\n",
      "在这里输入答案\n",
      "在这里输入答案\n",
      "在这里输入答案\n",
      "在这里输入答案\n",
      "在这里输入答案\n"
     ]
    }
   ],
   "source": [
    "import random\n",
    "\n",
    "# 提示: random.randint(a, b)可以创建一个a-b的随机数，包括a, b\n",
    "secret = random.randint(1, 100)\n",
    "\n",
    "max_trials = 6\n",
    "\n",
    "trials = 0\n",
    "\n",
    "for i in range(0, max_trials):\n",
    "    ###########################\n",
    "    # 练习5 提示用户输入一个数 #\n",
    "    ###########################\n",
    "    guess = \"\"\"在这里输入答案\"\"\"\n",
    "    print guess"
   ]
  },
  {
   "cell_type": "markdown",
   "metadata": {},
   "source": [
    "好的！我们成功地读入了用户猜的数。接下来是判断数是否正确:"
   ]
  },
  {
   "cell_type": "code",
   "execution_count": 31,
   "metadata": {},
   "outputs": [
    {
     "name": "stdout",
     "output_type": "stream",
     "text": [
      "82\n",
      "正确!\n",
      "正确!\n",
      "正确!\n",
      "正确!\n",
      "正确!\n",
      "正确!\n"
     ]
    }
   ],
   "source": [
    "import random\n",
    "\n",
    "# 提示: random.randint(a, b)可以创建一个a-b的随机数，包括a, b\n",
    "secret = random.randint(1, 100)\n",
    "print secret\n",
    "\n",
    "max_trials = 6\n",
    "\n",
    "trials = 0\n",
    "\n",
    "for i in range(0, max_trials):\n",
    "    guess = input(\"Please input your guess: \")\n",
    "    \n",
    "    \n",
    "    ###########################\n",
    "    # 练习6 判断猜的是否正确 #\n",
    "    ###########################\n",
    "    if \"\"\"在这里输入答案\"\"\":\n",
    "        print \"Your guess is right!\"\n",
    "        break"
   ]
  },
  {
   "cell_type": "markdown",
   "metadata": {},
   "source": [
    "好的！接下来我们修改一下祝贺用户的字符串，提示用户一共猜了几次:<br>\n",
    "*(提示：循环变量是哪个？)*"
   ]
  },
  {
   "cell_type": "code",
   "execution_count": 33,
   "metadata": {},
   "outputs": [
    {
     "name": "stdout",
     "output_type": "stream",
     "text": [
      "63\n",
      "Please input your guess: 63\n",
      "Your guess is right! Trials:  在这里输入答案\n"
     ]
    }
   ],
   "source": [
    "import random\n",
    "\n",
    "# 提示: random.randint(a, b)可以创建一个a-b的随机数，包括a, b\n",
    "secret = random.randint(1, 100)\n",
    "print secret\n",
    "\n",
    "max_trials = 6\n",
    "\n",
    "trials = 0\n",
    "\n",
    "for i in range(0, max_trials):\n",
    "    guess = input(\"Please input your guess: \")\n",
    "    \n",
    "    if guess == secret:\n",
    "        ###########################\n",
    "        # 练习7 提示用户猜了几次 #\n",
    "        ###########################\n",
    "        print \"Your guess is right! Trials: \", \"\"\"在这里输入答案\"\"\"\n",
    "        break"
   ]
  },
  {
   "cell_type": "markdown",
   "metadata": {},
   "source": [
    "接下来判断用户输入的数太小的情况:"
   ]
  },
  {
   "cell_type": "code",
   "execution_count": null,
   "metadata": {},
   "outputs": [],
   "source": [
    "import random\n",
    "\n",
    "# 提示: random.randint(a, b)可以创建一个a-b的随机数，包括a, b\n",
    "secret = random.randint(1, 100)\n",
    "print secret\n",
    "\n",
    "max_trials = 6\n",
    "\n",
    "trials = 0\n",
    "\n",
    "for i in range(0, max_trials):\n",
    "    guess = input(\"Please input your guess: \")\n",
    "    \n",
    "    if guess == secret:\n",
    "        print \"Your guess is right! Trials: \", i\n",
    "        break\n",
    "    \n",
    "    ###########################\n",
    "    # 练习8 判断用户输入的数太大 #\n",
    "    ###########################\n",
    "    elif \"\"\"在这里输入答案\"\"\":\n",
    "        print \"Your guess\", guess, \"is too small!\""
   ]
  },
  {
   "cell_type": "markdown",
   "metadata": {},
   "source": [
    "最后是用户输入的数太大的情况："
   ]
  },
  {
   "cell_type": "code",
   "execution_count": null,
   "metadata": {},
   "outputs": [],
   "source": [
    "import random\n",
    "\n",
    "# 提示: random.randint(a, b)可以创建一个a-b的随机数，包括a, b\n",
    "secret = random.randint(1, 100)\n",
    "print secret\n",
    "\n",
    "max_trials = 6\n",
    "\n",
    "trials = 0\n",
    "\n",
    "for i in range(0, max_trials):\n",
    "    guess = input(\"Please input your guess: \")\n",
    "    \n",
    "    if guess == secret:\n",
    "        print \"Your guess is right! Trials: \", i + 1\n",
    "        break\n",
    "    elif guess > secret:\n",
    "        print \"Your guess\", guess, \"is too big!\"\n",
    "    ###########################\n",
    "    # 练习9 判断用户猜的数太小 #\n",
    "    ###########################\n",
    "    \"\"\"在这里输入答案\"\"\""
   ]
  },
  {
   "cell_type": "markdown",
   "metadata": {},
   "source": [
    "好的！这样循环部分完成了。接下来还有点尾巴：如果用户最后没有猜出答案，提示用户正确答案！"
   ]
  },
  {
   "cell_type": "code",
   "execution_count": null,
   "metadata": {},
   "outputs": [],
   "source": [
    "import random\n",
    "\n",
    "# 提示: random.randint(a, b)可以创建一个a-b的随机数，包括a, b\n",
    "secret = random.randint(1, 100)\n",
    "print secret\n",
    "\n",
    "max_trials = 6\n",
    "\n",
    "trials = 0\n",
    "\n",
    "for i in range(0, max_trials):\n",
    "    guess = input(\"Please input your guess: \")\n",
    "    \n",
    "    if guess == secret:\n",
    "        print \"Your guess is right! Trials: \", i + 1\n",
    "        break\n",
    "    elif guess > secret:\n",
    "        print \"Your guess\", guess, \"is too big!\"\n",
    "    else:\n",
    "        print \"Your guess\", guess, \"is too small!\"\n",
    "\n",
    "###########################\n",
    "# 练习10 判断用户是否没猜出来 #\n",
    "###########################\n",
    "if \"\"\"在这里输入答案\"\"\":\n",
    "    print \"You ran out of guesses! Answer: \", secret"
   ]
  },
  {
   "cell_type": "markdown",
   "metadata": {},
   "source": [
    "好的! 这样我们就一步步完成了猜数游戏<br>\n",
    "对了，别忘了删除调试用的print，不然就剧透啦！！<br>\n",
    "最终结果:"
   ]
  },
  {
   "cell_type": "code",
   "execution_count": 38,
   "metadata": {},
   "outputs": [
    {
     "name": "stdout",
     "output_type": "stream",
     "text": [
      "Please input your guess: 23\n",
      "Your guess 23 is too small!\n",
      "Please input your guess: 50\n",
      "Your guess 50 is too small!\n",
      "Please input your guess: 75\n",
      "Your guess 75 is too small!\n",
      "Please input your guess: 90\n",
      "Your guess 90 is too small!\n",
      "Please input your guess: 95\n",
      "Your guess 95 is too small!\n",
      "Please input your guess: 99\n",
      "Your guess 99 is too small!\n",
      "You ran out of guesses! Answer:  12\n"
     ]
    }
   ],
   "source": [
    "import random\n",
    "\n",
    "# 提示: random.randint(a, b)可以创建一个a-b的随机数，包括a, b\n",
    "secret = random.randint(1, 100)\n",
    "\n",
    "max_trials = 6\n",
    "\n",
    "trials = 0\n",
    "\n",
    "for i in range(0, max_trials):\n",
    "    guess = input(\"Please input your guess: \")\n",
    "    \n",
    "    if guess == secret:\n",
    "        print \"Your guess is right! Trials: \", i + 1\n",
    "        break\n",
    "    elif guess > secret:\n",
    "        print \"Your guess\", guess, \"is too big!\"\n",
    "    else:\n",
    "        print \"Your guess\", guess, \"is too small!\"\n",
    "\n",
    "###########################\n",
    "# 练习10 判断用户是否没猜出来 #\n",
    "###########################\n",
    "if guess != secret:\n",
    "    print \"You ran out of guesses! Answer: \", secret"
   ]
  }
 ],
 "metadata": {
  "kernelspec": {
   "display_name": "Python 2",
   "language": "python",
   "name": "python2"
  },
  "language_info": {
   "codemirror_mode": {
    "name": "ipython",
    "version": 2
   },
   "file_extension": ".py",
   "mimetype": "text/x-python",
   "name": "python",
   "nbconvert_exporter": "python",
   "pygments_lexer": "ipython2",
   "version": "2.7.15"
  }
 },
 "nbformat": 4,
 "nbformat_minor": 1
}
