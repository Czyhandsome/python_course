{
 "cells": [
  {
   "cell_type": "markdown",
   "metadata": {
    "collapsed": true
   },
   "source": [
    "# 注释\n",
    "我们现在学会了很多python的知识辣！<br/>\n",
    "- 给变量赋值\n",
    "- 数学运算\n",
    "- 基本数据类型（int/float/str）\n",
    "- 处理用户输入\n",
    "- 图形用户界面\n",
    "- if判断\n",
    "- 循环（for/while)\n",
    "- …………\n",
    "\n",
    "这些代码都有一个共同的特点——都会执行！\n",
    "![AGoodSmile.jpg](../resources/AGoodSmile.jpg)\n",
    "比如下面的代码——猜猜看它会做什么？"
   ]
  },
  {
   "cell_type": "code",
   "execution_count": 1,
   "metadata": {},
   "outputs": [
    {
     "name": "stdout",
     "output_type": "stream",
     "text": [
      "猜一个1到99之间的数字!\n",
      "    你有6次机会可以猜这个数字\n",
      "6K+36L6T5YWl54yc5rWL55qE5pWw5a2XOiA=\n",
      "50\n",
      "第1次猜的不对: 猜的数小于正确答案!\n",
      "6K+36L6T5YWl54yc5rWL55qE5pWw5a2XOiA=\n",
      "75\n",
      "第2次猜的不对: 猜的数大于正确答案!\n",
      "6K+36L6T5YWl54yc5rWL55qE5pWw5a2XOiA=\n",
      "63\n",
      "第3次猜的不对: 猜的数小于正确答案!\n",
      "6K+36L6T5YWl54yc5rWL55qE5pWw5a2XOiA=\n",
      "70\n",
      "第4次猜的不对: 猜的数大于正确答案!\n",
      "6K+36L6T5YWl54yc5rWL55qE5pWw5a2XOiA=\n",
      "67\n",
      "恭喜你猜对了! 花费的次数: 5次\n"
     ]
    }
   ],
   "source": [
    "# coding=utf-8\n",
    "import random\n",
    "\n",
    "if __name__ == '__main__':\n",
    "    secret = random.randint(1, 99)\n",
    "    MAX_TRIALS = 6\n",
    "    print(\"\"\"猜一个1到99之间的数字!\n",
    "    你有{0}次机会可以猜这个数字\"\"\".format(MAX_TRIALS))\n",
    "    tries = 0\n",
    "    guess = 0\n",
    "    while tries < MAX_TRIALS and guess != secret:\n",
    "        try:\n",
    "            guess = int(input(\"请输入猜测的数字: \"))\n",
    "            tries = tries + 1\n",
    "            if guess < secret:\n",
    "                print(\"第{0}次猜的不对: 猜的数小于正确答案!\".format(tries))\n",
    "            elif guess > secret:\n",
    "                print(\"第{0}次猜的不对: 猜的数大于正确答案!\".format(tries))\n",
    "        except ValueError:\n",
    "            print(\"请输入正确的数字!\")\n",
    "    if guess == secret:\n",
    "        print(\"恭喜你猜对了! 花费的次数: {0}次\".format(tries))\n",
    "    else:\n",
    "        print(\"很遗憾, 你没有在{0}次之内猜对正确答案!\".format(MAX_TRIALS))\n",
    "        print(\"正确答案是: {0}\".format(secret))"
   ]
  },
  {
   "cell_type": "markdown",
   "metadata": {},
   "source": [
    "是个猜数游戏！很好，但是你能很快看懂这端代码讲的是什么，怎么样实现的吗？\n",
    "![ASurprisingFace.jpg](../resources/ASurprisingFace.jpg)\n",
    "\n",
    "因为这段代码：\n",
    "- 很长；\n",
    "- 有好多变量\n",
    "- 有循环，循环里面还有判断\n",
    "- 有用户输入\n",
    "- ……\n",
    "\n",
    "最最重要的一点是——     \n",
    "<p style=\"font-size: 50px\"> 没有注释！ </p>\n",
    "\n",
    "那么说起来，什么是注释呢？\n",
    "# 注释\n",
    "注释是程序代码中用于解释的部分。它们对于程序运行没有任何作用，在运行的时候会自动忽略掉。\n",
    "\n",
    "简单地说——注释就是完全没用的代码！（或者说根本不是代码）\n",
    "![ABeautifulSmile.jpg](../resources/ABeautifulSmile.jpg)\n",
    "\n",
    "为什么要搞这玩意？？明明对编程没有帮助？\n",
    "\n",
    "要知道：运行程序的是电脑，但是写程序、修改程序的，是程序员（人类）    \n",
    "一般来说，软件不会一次性就制作完成，后面需要修改bug、添加新功能，有时候甚至可能全部重写。    \n",
    "你可能会：\n",
    "- 看自己以前写的代码（可能是昨天、两个月前、十年前的代码）\n",
    "- 看别人（同事）写的代码\n",
    "- 看外星人（其他公司的人）写的代码\n",
    "\n",
    "研究表明：写程序的难度是读程序难度的1%！！！    \n",
    "注释可有效降低看程序的难度！    \n",
    "注释的主要作用：\n",
    "- 为什么写这个程序（用途）\n",
    "- 这个程序是谁写的\n",
    "- 这个程序是给谁用的\n",
    "- 这个程序是怎么实现的\n",
    "\n",
    "那么，注释应该怎么写呢？"
   ]
  },
  {
   "cell_type": "markdown",
   "metadata": {},
   "source": [
    "# 单行注释——把一行变成注释\n",
    "使用#符号，放在一行的开头，就成了一个单行注释！"
   ]
  },
  {
   "cell_type": "code",
   "execution_count": 2,
   "metadata": {},
   "outputs": [
    {
     "name": "stdout",
     "output_type": "stream",
     "text": [
      "#这不是一个注释，因为#在引号里面\n"
     ]
    }
   ],
   "source": [
    "# 这是一个注释\n",
    "print \"#这不是一个注释，因为#在引号里面\" # 这是一个注释，因为#在引号外面"
   ]
  },
  {
   "cell_type": "markdown",
   "metadata": {},
   "source": [
    "# 行尾注释 —— 放在程序末尾，用来解释这一行程序\n",
    "在一行程序后面用#进行注释就行"
   ]
  },
  {
   "cell_type": "code",
   "execution_count": 3,
   "metadata": {},
   "outputs": [
    {
     "name": "stdout",
     "output_type": "stream",
     "text": [
      "我是普通程序\n"
     ]
    }
   ],
   "source": [
    "print \"我是普通程序\" # 我是注释，用来解释这行是干嘛的：打印一句话"
   ]
  },
  {
   "cell_type": "markdown",
   "metadata": {},
   "source": [
    "# 多行注释 —— 用来解释一段程序\n",
    "多用几个#就行啦！"
   ]
  },
  {
   "cell_type": "code",
   "execution_count": 4,
   "metadata": {},
   "outputs": [
    {
     "name": "stdout",
     "output_type": "stream",
     "text": [
      "0 * 4 = 0\n",
      "1 * 4 = 4\n",
      "2 * 4 = 8\n",
      "3 * 4 = 12\n",
      "4 * 4 = 16\n",
      "5 * 4 = 20\n",
      "6 * 4 = 24\n",
      "7 * 4 = 28\n",
      "8 * 4 = 32\n",
      "9 * 4 = 36\n"
     ]
    }
   ],
   "source": [
    "# ***********\n",
    "# 下面这段程序用于打印0-9乘以4的乘法表\n",
    "# 星号的部分只是用来把注释\n",
    "# 跟下面的代码区分一下，去掉也没关系\n",
    "# ***********\n",
    "for i in range(0, 10): \n",
    "    print \"%d * 4 = %d\" % (i, i * 4)"
   ]
  },
  {
   "cell_type": "markdown",
   "metadata": {},
   "source": [
    "# 三重引号注释——不是注释的注释\n",
    "用三个引号括起一段字符串（可以加换行）\n",
    "严格来说，三个引号不能算注释，只能算一些没有作用的代码，一般不建议使用。"
   ]
  },
  {
   "cell_type": "code",
   "execution_count": 6,
   "metadata": {},
   "outputs": [
    {
     "name": "stdout",
     "output_type": "stream",
     "text": [
      "\n",
      "我们是一段打酱油的字符串，\n",
      "其实，我们也算是源代码，\n",
      "只不过什么都不做而已\n",
      "（一般被人当作注释用了T_T）\n",
      "\n",
      "\n",
      "不信你看，我们也是有作用的！\n",
      "\n"
     ]
    }
   ],
   "source": [
    "\"\"\"\n",
    "我们是一段打酱油的字符串，\n",
    "其实，我们也算是源代码，\n",
    "只不过什么都不做而已\n",
    "（一般被人当作注释用了T_T）\n",
    "\"\"\"\n",
    "print \"\"\"\n",
    "不信你看，我们也是有作用的！\n",
    "\"\"\""
   ]
  },
  {
   "cell_type": "markdown",
   "metadata": {},
   "source": [
    "# 注释风格 —— 总之多写就对啦！\n",
    "一般来说我用的风格是：\n",
    "- 不用行尾注释，只用行首注释\n",
    "- 解释一段话的时候，用多行注释\n",
    "- 解释一个函数（后面提到），用三重引号注释"
   ]
  },
  {
   "cell_type": "code",
   "execution_count": null,
   "metadata": {},
   "outputs": [],
   "source": [
    "# coding=utf-8\n",
    "import random\n",
    "\n",
    "if __name__ == '__main__':\n",
    "\"\"\"\n",
    "一个猜数游戏\n",
    "\"\"\"\n",
    "    # 创建一个随机数作为要猜的数字\n",
    "    secret = random.randint(1, 99)\n",
    "    # 最大的猜测次数\n",
    "    MAX_TRIALS = 6\n",
    "    # 提示用户操作\n",
    "    print(\"\"\"猜一个1到99之间的数字!\n",
    "    你有{0}次机会可以猜这个数字\"\"\".format(MAX_TRIALS))\n",
    "    # 已经尝试的次数\n",
    "    tries = 0\n",
    "    # 用户输入的数字，用于与答案进行比较\n",
    "    guess = 0\n",
    "    # 循环，直到用户猜对或者超过了最大次数\n",
    "    while tries < MAX_TRIALS and guess != secret:\n",
    "        try:\n",
    "            # 用户输入数字\n",
    "            guess = int(input(\"请输入猜测的数字: \"))\n",
    "            # 猜的次数+1\n",
    "            tries = tries + 1\n",
    "            # 用户的数小于答案\n",
    "            if guess < secret:\n",
    "                print(\"第{0}次猜的不对: 猜的数小于正确答案!\".format(tries))\n",
    "            # 用户的数大于答案\n",
    "            elif guess > secret:\n",
    "                print(\"第{0}次猜的不对: 猜的数大于正确答案!\".format(tries))\n",
    "        except ValueError:\n",
    "            # 用户输入错误，提示输入正确的数字\n",
    "            print(\"请输入正确的数字!\")\n",
    "    # 用户猜对了\n",
    "    if guess == secret:\n",
    "        print(\"恭喜你猜对了! 花费的次数: {0}次\".format(tries))\n",
    "    # 用户没猜对\n",
    "    else:\n",
    "        print(\"很遗憾, 你没有在{0}次之内猜对正确答案!\".format(MAX_TRIALS))\n",
    "        print(\"正确答案是: {0}\".format(secret))"
   ]
  },
  {
   "cell_type": "markdown",
   "metadata": {},
   "source": [
    "怎么样！现在能看懂这段程序怎么写的了吧！\n",
    "\n",
    "有时候，注释还有种临时性的用法——注释掉一些不需要的代码，用来测试"
   ]
  },
  {
   "cell_type": "code",
   "execution_count": 8,
   "metadata": {},
   "outputs": [
    {
     "name": "stdout",
     "output_type": "stream",
     "text": [
      "我是正确的代码\n",
      "我是多余的代码\n",
      "我是错误的代码，被注释掉了T_T\n"
     ]
    }
   ],
   "source": [
    "print \"我是正确的代码\"\n",
    "print \"我是多余的代码\"\n",
    "# print \"我是错误的代码，被注释掉了T_T\""
   ]
  },
  {
   "cell_type": "markdown",
   "metadata": {},
   "source": [
    "# 注意！临时注释一定要及时去掉，不然影响别人阅读！"
   ]
  }
 ],
 "metadata": {
  "kernelspec": {
   "display_name": "Python 2",
   "language": "python",
   "name": "python2"
  },
  "language_info": {
   "codemirror_mode": {
    "name": "ipython",
    "version": 2
   },
   "file_extension": ".py",
   "mimetype": "text/x-python",
   "name": "python",
   "nbconvert_exporter": "python",
   "pygments_lexer": "ipython2",
   "version": "2.7.15"
  }
 },
 "nbformat": 4,
 "nbformat_minor": 1
}
