{
 "cells": [
  {
   "cell_type": "markdown",
   "metadata": {
    "collapsed": true
   },
   "source": [
    "我们已经看到了，在循环体（就是代码块）中可以放入其他代码，这些代码块本身也可以有自己的代码块。<br/>\n",
    "比如，之前的猜数游戏："
   ]
  },
  {
   "cell_type": "code",
   "execution_count": 1,
   "metadata": {},
   "outputs": [
    {
     "name": "stdout",
     "output_type": "stream",
     "text": [
      "What's the guess?23\n",
      "Too low!\n",
      "What's the guess?50\n"
     ]
    }
   ],
   "source": [
    "secret = 50\n",
    "guess = 0\n",
    "tries = 0\n",
    "while guess != secret and tries < 6:\n",
    "    guess = input(\"What's the guess?\")\n",
    "    tries = tries + 1\n",
    "    if guess < secret:\n",
    "        print \"Too low!\"\n",
    "    elif guess > secret:\n",
    "        print \"Too high!\""
   ]
  },
  {
   "cell_type": "markdown",
   "metadata": {},
   "source": [
    "外层的是一个while循环，里面的是这个while循环块中的if和elif块<br/>\n",
    "还可以把一个循环放到另一个循环里面，这就叫做**嵌套循环**"
   ]
  },
  {
   "cell_type": "markdown",
   "metadata": {},
   "source": [
    "# 11.1 嵌套循环\n",
    "以下面的乘法表程序为例："
   ]
  },
  {
   "cell_type": "code",
   "execution_count": 2,
   "metadata": {},
   "outputs": [
    {
     "name": "stdout",
     "output_type": "stream",
     "text": [
      "1 x 5 = 5\n",
      "2 x 5 = 10\n",
      "3 x 5 = 15\n",
      "4 x 5 = 20\n",
      "5 x 5 = 25\n",
      "6 x 5 = 30\n",
      "7 x 5 = 35\n",
      "8 x 5 = 40\n",
      "9 x 5 = 45\n",
      "10 x 5 = 50\n"
     ]
    }
   ],
   "source": [
    "multiplier = 5\n",
    "for i in range(1, 11):\n",
    "    print i, \"x\", multiplier, \"=\", i * multiplier"
   ]
  },
  {
   "cell_type": "markdown",
   "metadata": {},
   "source": [
    "如果想一次打印3个乘法表呢？我们就可以用嵌套循环啦！<br/>\n",
    "要打印3个乘法表，只要把原来的循环（打印一个乘法表）包含在一个外循环里面（运行3次），这样程序就会打印3个乘法表（而不是1个）。"
   ]
  },
  {
   "cell_type": "code",
   "execution_count": 9,
   "metadata": {},
   "outputs": [
    {
     "name": "stdout",
     "output_type": "stream",
     "text": [
      "1 x 5 = 5\n",
      "2 x 5 = 10\n",
      "3 x 5 = 15\n",
      "4 x 5 = 20\n",
      "5 x 5 = 25\n",
      "6 x 5 = 30\n",
      "7 x 5 = 35\n",
      "8 x 5 = 40\n",
      "9 x 5 = 45\n",
      "10 x 5 = 50\n",
      "\n",
      "1 x 6 = 6\n",
      "2 x 6 = 12\n",
      "3 x 6 = 18\n",
      "4 x 6 = 24\n",
      "5 x 6 = 30\n",
      "6 x 6 = 36\n",
      "7 x 6 = 42\n",
      "8 x 6 = 48\n",
      "9 x 6 = 54\n",
      "10 x 6 = 60\n",
      "\n",
      "1 x 7 = 7\n",
      "2 x 7 = 14\n",
      "3 x 7 = 21\n",
      "4 x 7 = 28\n",
      "5 x 7 = 35\n",
      "6 x 7 = 42\n",
      "7 x 7 = 49\n",
      "8 x 7 = 56\n",
      "9 x 7 = 63\n",
      "10 x 7 = 70\n",
      "\n"
     ]
    }
   ],
   "source": [
    "for multiplier in range(5, 8):\n",
    "    for i in range(1, 11):\n",
    "        print i, \"x\", multiplier, \"=\", i * multiplier\n",
    "    print"
   ]
  },
  {
   "cell_type": "markdown",
   "metadata": {},
   "source": [
    "**注意！**必须将内循环缩进，而且print语句距离外部的for循环还要多加4个空格！<br/>\n",
    "这个程序会根据外圈循环打印5、6、7的乘法表，每个表都从1乘到10."
   ]
  },
  {
   "cell_type": "markdown",
   "metadata": {},
   "source": [
    "## 练习\n",
    "打印1-9的乘法表，每次也是从1乘到10."
   ]
  },
  {
   "cell_type": "code",
   "execution_count": 22,
   "metadata": {},
   "outputs": [
    {
     "name": "stdout",
     "output_type": "stream",
     "text": [
      "1 x 1 = 1\n",
      "2 x 1 = 2\n",
      "3 x 1 = 3\n",
      "4 x 1 = 4\n",
      "5 x 1 = 5\n",
      "6 x 1 = 6\n",
      "7 x 1 = 7\n",
      "8 x 1 = 8\n",
      "9 x 1 = 9\n",
      "\n",
      "1 x 2 = 2\n",
      "2 x 2 = 4\n",
      "3 x 2 = 6\n",
      "4 x 2 = 8\n",
      "5 x 2 = 10\n",
      "6 x 2 = 12\n",
      "7 x 2 = 14\n",
      "8 x 2 = 16\n",
      "9 x 2 = 18\n",
      "\n",
      "1 x 3 = 3\n",
      "2 x 3 = 6\n",
      "3 x 3 = 9\n",
      "4 x 3 = 12\n",
      "5 x 3 = 15\n",
      "6 x 3 = 18\n",
      "7 x 3 = 21\n",
      "8 x 3 = 24\n",
      "9 x 3 = 27\n",
      "\n",
      "1 x 4 = 4\n",
      "2 x 4 = 8\n",
      "3 x 4 = 12\n",
      "4 x 4 = 16\n",
      "5 x 4 = 20\n",
      "6 x 4 = 24\n",
      "7 x 4 = 28\n",
      "8 x 4 = 32\n",
      "9 x 4 = 36\n",
      "\n",
      "1 x 5 = 5\n",
      "2 x 5 = 10\n",
      "3 x 5 = 15\n",
      "4 x 5 = 20\n",
      "5 x 5 = 25\n",
      "6 x 5 = 30\n",
      "7 x 5 = 35\n",
      "8 x 5 = 40\n",
      "9 x 5 = 45\n",
      "\n",
      "1 x 6 = 6\n",
      "2 x 6 = 12\n",
      "3 x 6 = 18\n",
      "4 x 6 = 24\n",
      "5 x 6 = 30\n",
      "6 x 6 = 36\n",
      "7 x 6 = 42\n",
      "8 x 6 = 48\n",
      "9 x 6 = 54\n",
      "\n",
      "1 x 7 = 7\n",
      "2 x 7 = 14\n",
      "3 x 7 = 21\n",
      "4 x 7 = 28\n",
      "5 x 7 = 35\n",
      "6 x 7 = 42\n",
      "7 x 7 = 49\n",
      "8 x 7 = 56\n",
      "9 x 7 = 63\n",
      "\n",
      "1 x 8 = 8\n",
      "2 x 8 = 16\n",
      "3 x 8 = 24\n",
      "4 x 8 = 32\n",
      "5 x 8 = 40\n",
      "6 x 8 = 48\n",
      "7 x 8 = 56\n",
      "8 x 8 = 64\n",
      "9 x 8 = 72\n",
      "\n",
      "1 x 9 = 9\n",
      "2 x 9 = 18\n",
      "3 x 9 = 27\n",
      "4 x 9 = 36\n",
      "5 x 9 = 45\n",
      "6 x 9 = 54\n",
      "7 x 9 = 63\n",
      "8 x 9 = 72\n",
      "9 x 9 = 81\n",
      "\n",
      "1 x 10 = 10\n",
      "2 x 10 = 20\n",
      "3 x 10 = 30\n",
      "4 x 10 = 40\n",
      "5 x 10 = 50\n",
      "6 x 10 = 60\n",
      "7 x 10 = 70\n",
      "8 x 10 = 80\n",
      "9 x 10 = 90\n",
      "\n"
     ]
    }
   ],
   "source": [
    "for m in range (1,11):\n",
    "    for i in range (1,10):\n",
    "        print i , \"x\", m , \"=\", i * m\n",
    "    print"
   ]
  },
  {
   "cell_type": "markdown",
   "metadata": {},
   "source": [
    "可以在屏幕上打印一些星号，并统计总共有多少个。看上去挺无聊，但有助于我们理解嵌套循环怎么工作的！"
   ]
  },
  {
   "cell_type": "markdown",
   "metadata": {},
   "source": [
    "# 11.2 可变循环\n",
    "固定的数（比如range函数使用的数）也称为**常数(constants)**。如果在一个for循环中的range()函数里使用常数，程序运行时总是会执行固定的次数。这种情况称为**硬编码**的，不一定满足我们的需要。<br/>\n",
    "有时候我们需要：\n",
    "- 循环次数由用户决定。\n",
    "- 循环次数由程序的其他部分决定。\n",
    "\n",
    "对于这种情况，我们需要使用变量，进行**可变循环**<br>\n",
    "举个例子："
   ]
  },
  {
   "cell_type": "code",
   "execution_count": 24,
   "metadata": {},
   "outputs": [
    {
     "name": "stdout",
     "output_type": "stream",
     "text": [
      "How many stars do you want? 10\n",
      "* * * * * * * * * *\n"
     ]
    }
   ],
   "source": [
    "numStars = int(raw_input(\"How many stars do you want? \"))\n",
    "for i in range(1, numStars):\n",
    "    print '*',"
   ]
  },
  {
   "cell_type": "markdown",
   "metadata": {},
   "source": [
    "可恶！为什么会少一个星号？？\n",
    "![face](../resources/ABeautifulSmile.jpg)<br>\n",
    "哦！range函数是从 1 到 n-1的！忘记加一了！！\n",
    "![face](../resources/CatSmile.png)"
   ]
  },
  {
   "cell_type": "code",
   "execution_count": 7,
   "metadata": {},
   "outputs": [
    {
     "name": "stdout",
     "output_type": "stream",
     "text": [
      "How many stars do you want? 5\n",
      "* * * * *\n"
     ]
    }
   ],
   "source": [
    "numStars = int(raw_input(\"How many stars do you want? \"))\n",
    "for i in range(1, numStars + 1):\n",
    "    print '*',"
   ]
  },
  {
   "cell_type": "markdown",
   "metadata": {},
   "source": [
    "或者，我们也可以从0开始计数："
   ]
  },
  {
   "cell_type": "code",
   "execution_count": 27,
   "metadata": {},
   "outputs": [
    {
     "name": "stdout",
     "output_type": "stream",
     "text": [
      "How many stars do you want? 1\n",
      "*\n"
     ]
    }
   ],
   "source": [
    "numStars = int(raw_input(\"How many stars do you want? \"))\n",
    "for i in range(0, numStars):\n",
    "    print '*',"
   ]
  },
  {
   "cell_type": "markdown",
   "metadata": {},
   "source": [
    "# 11.3 可变嵌套循环\n",
    "现在尝试一个可变嵌套循环！让用户输入两个数，打印两数相乘的星号！"
   ]
  },
  {
   "cell_type": "code",
   "execution_count": 34,
   "metadata": {},
   "outputs": [
    {
     "name": "stdout",
     "output_type": "stream",
     "text": [
      "How many lines of stars do you want? 5\n",
      "How many stars per line? 6\n",
      "* * * * * *\n",
      "* * * * * *\n",
      "* * * * * *\n",
      "* * * * * *\n",
      "* * * * * *\n"
     ]
    }
   ],
   "source": [
    "numLines = int(raw_input(\"How many lines of stars do you want? \"))\n",
    "numStars = int(raw_input(\"How many stars per line? \"))\n",
    "for line in range(0, numLines):\n",
    "    for star in range(0, numStars):\n",
    "        print '*',\n",
    "    print"
   ]
  },
  {
   "cell_type": "markdown",
   "metadata": {},
   "source": [
    "首先，我们询问用户要多少行星星，每行打印多少个星星。\n",
    "然后，我们使用了两层循环：\n",
    "- 内循环（for star in range(0, numStars):）打印每行需要打印的星星数量\n",
    "- 外循环（for line in range(0, numLines):）把内部循环重复n次，n就是用户输入的行数\n",
    "**注意！**需要有第二个print语句打印空行，不然就打印到同一行上面去啦<br>\n",
    "甚至可以嵌套3层循环："
   ]
  },
  {
   "cell_type": "code",
   "execution_count": 35,
   "metadata": {},
   "outputs": [
    {
     "name": "stdout",
     "output_type": "stream",
     "text": [
      "How many blocks of stars do you want? 5\n",
      "How many lines of stars do you want? 6\n",
      "How many stars per line? 7\n",
      "* * * * * * *\n",
      "* * * * * * *\n",
      "* * * * * * *\n",
      "* * * * * * *\n",
      "* * * * * * *\n",
      "* * * * * * *\n",
      "\n",
      "* * * * * * *\n",
      "* * * * * * *\n",
      "* * * * * * *\n",
      "* * * * * * *\n",
      "* * * * * * *\n",
      "* * * * * * *\n",
      "\n",
      "* * * * * * *\n",
      "* * * * * * *\n",
      "* * * * * * *\n",
      "* * * * * * *\n",
      "* * * * * * *\n",
      "* * * * * * *\n",
      "\n",
      "* * * * * * *\n",
      "* * * * * * *\n",
      "* * * * * * *\n",
      "* * * * * * *\n",
      "* * * * * * *\n",
      "* * * * * * *\n",
      "\n",
      "* * * * * * *\n",
      "* * * * * * *\n",
      "* * * * * * *\n",
      "* * * * * * *\n",
      "* * * * * * *\n",
      "* * * * * * *\n",
      "\n"
     ]
    }
   ],
   "source": [
    "numBlocks = int(raw_input(\"How many blocks of stars do you want? \"))\n",
    "numLines = int(raw_input(\"How many lines of stars do you want? \"))\n",
    "numStars = int(raw_input(\"How many stars per line? \"))\n",
    "for block in range(0, numBlocks):\n",
    "    for line in range(0, numLines):\n",
    "        for star in range(0, numStars):\n",
    "            print '*',\n",
    "        print\n",
    "    print"
   ]
  },
  {
   "cell_type": "markdown",
   "metadata": {},
   "source": [
    "# 11.4 更多嵌套循环\n",
    "下面是一个更复杂的嵌套循环："
   ]
  },
  {
   "cell_type": "code",
   "execution_count": 6,
   "metadata": {},
   "outputs": [
    {
     "name": "stdout",
     "output_type": "stream",
     "text": [
      "How many blocks of stars do you want? 3\n",
      "* * *\n",
      "\n",
      "* * * * *\n",
      "* * * * * * *\n",
      "* * * * * * * * *\n",
      "\n",
      "* * * * * * *\n",
      "* * * * * * * * *\n",
      "* * * * * * * * * * *\n",
      "* * * * * * * * * * * * *\n",
      "* * * * * * * * * * * * * * *\n",
      "\n"
     ]
    }
   ],
   "source": [
    "numBlocks = int(raw_input(\"How many blocks of stars do you want? \"))\n",
    "for block in range(1, numBlocks + 1):\n",
    "    for line in range(1, block * 2):\n",
    "        for star in range(1, (block + line) * 2):\n",
    "            print '*',\n",
    "        print\n",
    "    print"
   ]
  },
  {
   "cell_type": "markdown",
   "metadata": {},
   "source": [
    "在上面的循环里面，外循环的循环变量用于为内循环设置范围，所以每次打印的星星行数都不一样，每行打印星星的个数也不一样。<br>\n",
    "有时候可以打印循环变量的值，来更好地了解循环怎么跑的："
   ]
  },
  {
   "cell_type": "code",
   "execution_count": 5,
   "metadata": {},
   "outputs": [
    {
     "name": "stdout",
     "output_type": "stream",
     "text": [
      "How many blocks of stars do you want? 2\n",
      "block =  1\n",
      "line =  1\n",
      "star =  1 * star =  2 * star =  3 *\n",
      "block =  2\n",
      "line =  1\n",
      "star =  1 * star =  2 * star =  3 * star =  4 * star =  5 * line =  2\n",
      "star =  1 * star =  2 * star =  3 * star =  4 * star =  5 * star =  6 * star =  7 * line =  3\n",
      "star =  1 * star =  2 * star =  3 * star =  4 * star =  5 * star =  6 * star =  7 * star =  8 * star =  9 *\n"
     ]
    }
   ],
   "source": [
    "numBlocks = int(raw_input(\"How many blocks of stars do you want? \"))\n",
    "for block in range(1, numBlocks + 1):\n",
    "    print 'block = ', block\n",
    "    for line in range(1, block * 2):\n",
    "        print \"line = \", line\n",
    "        for star in range(1, (block + line) * 2):\n",
    "            print \"star = \", star,\n",
    "            print '*',\n",
    "    print"
   ]
  },
  {
   "cell_type": "code",
   "execution_count": 20,
   "metadata": {},
   "outputs": [
    {
     "name": "stdout",
     "output_type": "stream",
     "text": [
      "6K+36L6T5YWl6I+x5b2i55qE5pWw6YeP\n",
      "5\n",
      "*\n",
      "\n",
      " * \n",
      "* *\n",
      " * \n",
      "\n",
      "  *  \n",
      " * * \n",
      "*   *\n",
      " * * \n",
      "  *  \n",
      "\n",
      "   *   \n",
      "  * *  \n",
      " *   * \n",
      "*     *\n",
      " *   * \n",
      "  * *  \n",
      "   *   \n",
      "\n",
      "    *    \n",
      "   * *   \n",
      "  *   *  \n",
      " *     * \n",
      "*       *\n",
      " *     * \n",
      "  *   *  \n",
      "   * *   \n",
      "    *    \n",
      "\n"
     ]
    }
   ],
   "source": [
    "m = int(raw_input(\"请输入菱形的数量\"))\n",
    "for n in range(1, m + 1):\n",
    "    for i in range(0, n):\n",
    "        if i == 0:\n",
    "            print \" \" * (n - 1) + \"*\" + \" \" * (n - 1)\n",
    "        else:\n",
    "            print \" \" * (n - i - 1) + \"*\" + \" \" * (2 * i - 1) + \"*\" + \" \" * (n - i - 1)\n",
    "    for i in range(n - 2, -1, -1):\n",
    "        if i == 0:\n",
    "            print \" \" * (n - 1) + \"*\" + \" \" * (n - 1)\n",
    "        else:\n",
    "            print \" \" * (n - i - 1) + \"*\" + \" \" * (2 * i - 1) + \"*\" + \" \" * (n - i - 1)\n",
    "    print"
   ]
  },
  {
   "cell_type": "markdown",
   "metadata": {},
   "source": [
    "# 11.5 使用嵌套循环\n",
    "一般循环用来生成所有可能出现的排列组合情况！\n",
    "例如下面的程序，计算快餐店食物的排列组合："
   ]
  },
  {
   "cell_type": "code",
   "execution_count": 23,
   "metadata": {},
   "outputs": [
    {
     "name": "stdout",
     "output_type": "stream",
     "text": [
      "\tDog \tBun \tKetchup\tMustard\tOnions\n",
      "# 1 \t0 \t0 \t0 \t\t0 \t\t0\n",
      "# 2 \t0 \t0 \t0 \t\t0 \t\t1\n",
      "# 3 \t0 \t0 \t0 \t\t1 \t\t0\n",
      "# 4 \t0 \t0 \t0 \t\t1 \t\t1\n",
      "# 5 \t0 \t0 \t1 \t\t0 \t\t0\n",
      "# 6 \t0 \t0 \t1 \t\t0 \t\t1\n",
      "# 7 \t0 \t0 \t1 \t\t1 \t\t0\n",
      "# 8 \t0 \t0 \t1 \t\t1 \t\t1\n",
      "# 9 \t0 \t1 \t0 \t\t0 \t\t0\n",
      "# 10 \t0 \t1 \t0 \t\t0 \t\t1\n",
      "# 11 \t0 \t1 \t0 \t\t1 \t\t0\n",
      "# 12 \t0 \t1 \t0 \t\t1 \t\t1\n",
      "# 13 \t0 \t1 \t1 \t\t0 \t\t0\n",
      "# 14 \t0 \t1 \t1 \t\t0 \t\t1\n",
      "# 15 \t0 \t1 \t1 \t\t1 \t\t0\n",
      "# 16 \t0 \t1 \t1 \t\t1 \t\t1\n",
      "# 17 \t1 \t0 \t0 \t\t0 \t\t0\n",
      "# 18 \t1 \t0 \t0 \t\t0 \t\t1\n",
      "# 19 \t1 \t0 \t0 \t\t1 \t\t0\n",
      "# 20 \t1 \t0 \t0 \t\t1 \t\t1\n",
      "# 21 \t1 \t0 \t1 \t\t0 \t\t0\n",
      "# 22 \t1 \t0 \t1 \t\t0 \t\t1\n",
      "# 23 \t1 \t0 \t1 \t\t1 \t\t0\n",
      "# 24 \t1 \t0 \t1 \t\t1 \t\t1\n",
      "# 25 \t1 \t1 \t0 \t\t0 \t\t0\n",
      "# 26 \t1 \t1 \t0 \t\t0 \t\t1\n",
      "# 27 \t1 \t1 \t0 \t\t1 \t\t0\n",
      "# 28 \t1 \t1 \t0 \t\t1 \t\t1\n",
      "# 29 \t1 \t1 \t1 \t\t0 \t\t0\n",
      "# 30 \t1 \t1 \t1 \t\t0 \t\t1\n",
      "# 31 \t1 \t1 \t1 \t\t1 \t\t0\n",
      "# 32 \t1 \t1 \t1 \t\t1 \t\t1\n"
     ]
    }
   ],
   "source": [
    "print \"\\tDog \\tBun \\tKetchup\\tMustard\\tOnions\"\n",
    "count = 1\n",
    "\n",
    "for dog in [0, 1]:\n",
    "    for bun in [0, 1]:\n",
    "        for ketchup in [0, 1]:\n",
    "            for mustard in [0, 1]:\n",
    "                for onion in [0, 1]:\n",
    "                    print '#', count, '\\t',\n",
    "                    print dog, '\\t', bun, '\\t', ketchup, '\\t\\t',\n",
    "                    print mustard, '\\t\\t', onion\n",
    "                    count = count + 1"
   ]
  },
  {
   "cell_type": "markdown",
   "metadata": {},
   "source": [
    "每种食品都有两种可能：买（1）或者不买（0）\n",
    "那么，5种食品，总共就有2 * 2 * 2 * 2 * 2 = 32种可能！"
   ]
  },
  {
   "cell_type": "markdown",
   "metadata": {},
   "source": [
    "## 计算卡路里\n",
    "根据每种食物的卡路里，可以有助于规划饮食！<br>"
   ]
  },
  {
   "cell_type": "code",
   "execution_count": 25,
   "metadata": {},
   "outputs": [
    {
     "name": "stdout",
     "output_type": "stream",
     "text": [
      "\tDog \tBun \tKetchup\tMustard\tOnions\n",
      "# 1 \t0 \t0 \t0 \t0 \t0 \t0\n",
      "# 2 \t0 \t0 \t0 \t0 \t1 \t40\n",
      "# 3 \t0 \t0 \t0 \t1 \t0 \t20\n",
      "# 4 \t0 \t0 \t0 \t1 \t1 \t60\n",
      "# 5 \t0 \t0 \t1 \t0 \t0 \t80\n",
      "# 6 \t0 \t0 \t1 \t0 \t1 \t120\n",
      "# 7 \t0 \t0 \t1 \t1 \t0 \t100\n",
      "# 8 \t0 \t0 \t1 \t1 \t1 \t140\n",
      "# 9 \t0 \t1 \t0 \t0 \t0 \t120\n",
      "# 10 \t0 \t1 \t0 \t0 \t1 \t160\n",
      "# 11 \t0 \t1 \t0 \t1 \t0 \t140\n",
      "# 12 \t0 \t1 \t0 \t1 \t1 \t180\n",
      "# 13 \t0 \t1 \t1 \t0 \t0 \t200\n",
      "# 14 \t0 \t1 \t1 \t0 \t1 \t240\n",
      "# 15 \t0 \t1 \t1 \t1 \t0 \t220\n",
      "# 16 \t0 \t1 \t1 \t1 \t1 \t260\n",
      "# 17 \t1 \t0 \t0 \t0 \t0 \t140\n",
      "# 18 \t1 \t0 \t0 \t0 \t1 \t180\n",
      "# 19 \t1 \t0 \t0 \t1 \t0 \t160\n",
      "# 20 \t1 \t0 \t0 \t1 \t1 \t200\n",
      "# 21 \t1 \t0 \t1 \t0 \t0 \t220\n",
      "# 22 \t1 \t0 \t1 \t0 \t1 \t260\n",
      "# 23 \t1 \t0 \t1 \t1 \t0 \t240\n",
      "# 24 \t1 \t0 \t1 \t1 \t1 \t280\n",
      "# 25 \t1 \t1 \t0 \t0 \t0 \t260\n",
      "# 26 \t1 \t1 \t0 \t0 \t1 \t300\n",
      "# 27 \t1 \t1 \t0 \t1 \t0 \t280\n",
      "# 28 \t1 \t1 \t0 \t1 \t1 \t320\n",
      "# 29 \t1 \t1 \t1 \t0 \t0 \t340\n",
      "# 30 \t1 \t1 \t1 \t0 \t1 \t380\n",
      "# 31 \t1 \t1 \t1 \t1 \t0 \t360\n",
      "# 32 \t1 \t1 \t1 \t1 \t1 \t400\n"
     ]
    }
   ],
   "source": [
    "dog_cal = 140\n",
    "bun_cal = 120\n",
    "mus_cal = 20\n",
    "ket_cal = 80\n",
    "onion_cal = 40\n",
    "\n",
    "print \"\\tDog \\tBun \\tKetchup\\tMustard\\tOnions\"\n",
    "count = 1\n",
    "\n",
    "for dog in [0, 1]:\n",
    "    for bun in [0, 1]:\n",
    "        for ketchup in [0, 1]:\n",
    "            for mustard in [0, 1]:\n",
    "                for onion in [0, 1]:\n",
    "                    total_cal = (bun * bun_cal) + (dog * dog_cal) + \\\n",
    "                                    (ket_cal * ketchup) + (mustard * mus_cal) + \\\n",
    "                                    (onion_cal * onion)\n",
    "                    print '#', count, '\\t',\n",
    "                    print dog, '\\t', bun, '\\t', ketchup, '\\t',\n",
    "                    print mustard, '\\t', onion,\n",
    "                    print '\\t', total_cal\n",
    "                    count = count + 1"
   ]
  },
  {
   "cell_type": "markdown",
   "metadata": {},
   "source": [
    "# 总结\n",
    "这一章你学会了：\n",
    "- 嵌套循环\n",
    "- 可变循环\n",
    "- 排列与组合\n",
    "- 决策树"
   ]
  }
 ],
 "metadata": {
  "kernelspec": {
   "display_name": "Python 2",
   "language": "python",
   "name": "python2"
  },
  "language_info": {
   "codemirror_mode": {
    "name": "ipython",
    "version": 2
   },
   "file_extension": ".py",
   "mimetype": "text/x-python",
   "name": "python",
   "nbconvert_exporter": "python",
   "pygments_lexer": "ipython2",
   "version": "2.7.15"
  }
 },
 "nbformat": 4,
 "nbformat_minor": 1
}
